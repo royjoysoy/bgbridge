{
 "cells": [
  {
   "cell_type": "code",
   "execution_count": 1,
   "id": "4434db2f",
   "metadata": {},
   "outputs": [],
   "source": [
    "# 5-16-2024 Roy Seo\n",
    "# create a list of file paths .txt (or.csv) to grab a file from each subject"
   ]
  },
  {
   "cell_type": "code",
   "execution_count": 7,
   "id": "89adc6fc",
   "metadata": {},
   "outputs": [
    {
     "data": {
      "text/plain": [
       "'/mnt/home/royseo/fsgroupAug11/bgbridge'"
      ]
     },
     "execution_count": 7,
     "metadata": {},
     "output_type": "execute_result"
    }
   ],
   "source": [
    "import os\n",
    "os.getcwd()"
   ]
  },
  {
   "cell_type": "code",
   "execution_count": 25,
   "id": "85353964",
   "metadata": {},
   "outputs": [
    {
     "name": "stdout",
     "output_type": "stream",
     "text": [
      "File paths modified and saved to: /mnt/home/royseo/fsgroupAug11/bgbridge/rh_aparc_path.txt\n",
      "Number of lines in the rh_aparc_path file: 440\n"
     ]
    }
   ],
   "source": [
    "### rh_aparc_path.txt (1/3) ###\n",
    "# Open the input file containing the list of file paths\n",
    "input_file_path = \"/mnt/home/royseo/fsgroupAug11/bgbridge/lh_aparc_path.txt\"\n",
    "output_file_path = \"/mnt/home/royseo/fsgroupAug11/bgbridge/rh_aparc_path.txt\"\n",
    "\n",
    "\n",
    "with open(input_file_path, 'r') as input_file:\n",
    "    # Read the lines from the input file\n",
    "    lines = input_file.readlines()\n",
    "\n",
    "# Modify the lines to replace 'lh.aparc.stats' with 'rh.aparc.stats'\n",
    "modified_lines = [line.replace('lh.aparc.stats', 'rh.aparc.stats') for line in lines]\n",
    "#print(modified_lines)\n",
    "\n",
    "# Write the modified lines to the output file\n",
    "with open(output_file_path, 'w') as output_file:\n",
    "    output_file.writelines(modified_lines)\n",
    "\n",
    "print(\"File paths modified and saved to:\", output_file_path)\n",
    "\n",
    "#---------- to count the nubmer of lines ----------\n",
    "# Open the text file\n",
    "file_path = \"/mnt/home/royseo/fsgroupAug11/bgbridge/rh_aparc_path.txt\" \n",
    "\n",
    "# Replace \"example.txt\" with your file path\n",
    "with open(file_path, 'r') as file:\n",
    "    # Count the number of lines\n",
    "    line_count = sum(1 for line in file)\n",
    "\n",
    "# Print the number of lines\n",
    "print(\"Number of lines in the rh_aparc_path file:\", line_count)\n"
   ]
  },
  {
   "cell_type": "code",
   "execution_count": 26,
   "id": "d748df0e",
   "metadata": {},
   "outputs": [
    {
     "name": "stdout",
     "output_type": "stream",
     "text": [
      "File paths modified and saved to: /mnt/home/royseo/fsgroupAug11/bgbridge/lh_aparc_a2009s_path.txt\n",
      "Number of lines in the lh_aparc_a2009s_path file: 440\n"
     ]
    }
   ],
   "source": [
    "### lh.aparc.a2009s.stats (2/3) ###\n",
    "# Open the input file containing the list of file paths\n",
    "input_file_path = \"/mnt/home/royseo/fsgroupAug11/bgbridge/lh_aparc_path.txt\"\n",
    "output_file_path = \"/mnt/home/royseo/fsgroupAug11/bgbridge/lh_aparc_a2009s_path.txt\"\n",
    "\n",
    "\n",
    "with open(input_file_path, 'r') as input_file:\n",
    "    # Read the lines from the input file\n",
    "    lines = input_file.readlines()\n",
    "\n",
    "# Modify the lines to replace 'lh.aparc.stats' with 'lh.aparc.a2009s.stats'\n",
    "modified_lines = [line.replace('lh.aparc.stats', 'lh.aparc.a2009s.stats') for line in lines]\n",
    "#print(modified_lines)\n",
    "\n",
    "# Write the modified lines to the output file\n",
    "with open(output_file_path, 'w') as output_file:\n",
    "    output_file.writelines(modified_lines)\n",
    "\n",
    "print(\"File paths modified and saved to:\", output_file_path)\n",
    "\n",
    "#---------- to count the nubmer of lines ----------\n",
    "# Open the text file\n",
    "file_path = \"/mnt/home/royseo/fsgroupAug11/bgbridge/lh_aparc_a2009s_path.txt\"\n",
    "\n",
    "# Replace \"example.txt\" with your file path\n",
    "with open(file_path, 'r') as file:\n",
    "    # Count the number of lines\n",
    "    line_count = sum(1 for line in file)\n",
    "\n",
    "# Print the number of lines\n",
    "print(\"Number of lines in the lh_aparc_a2009s_path file:\", line_count)"
   ]
  },
  {
   "cell_type": "code",
   "execution_count": 27,
   "id": "8114b5fb",
   "metadata": {},
   "outputs": [
    {
     "name": "stdout",
     "output_type": "stream",
     "text": [
      "File paths modified and saved to: /mnt/home/royseo/fsgroupAug11/bgbridge/rh_aparc_a2009s_path.txt\n",
      "Number of lines in the rh_aparc_a2009s_path file: 440\n"
     ]
    }
   ],
   "source": [
    "## rh.aparc.a2009s.stats (3/3)\n",
    "# Open the input file containing the list of file paths\n",
    "input_file_path = \"/mnt/home/royseo/fsgroupAug11/bgbridge/lh_aparc_path.txt\"\n",
    "output_file_path = \"/mnt/home/royseo/fsgroupAug11/bgbridge/rh_aparc_a2009s_path.txt\"\n",
    "\n",
    "\n",
    "with open(input_file_path, 'r') as input_file:\n",
    "    # Read the lines from the input file\n",
    "    lines = input_file.readlines()\n",
    "\n",
    "# Modify the lines to replace 'lh.aparc.stats' with 'rh.aparc.a2009s.stats'\n",
    "modified_lines = [line.replace('lh.aparc.stats', 'rh.aparc.a2009s.stats') for line in lines]\n",
    "#print(modified_lines)\n",
    "\n",
    "# Write the modified lines to the output file\n",
    "with open(output_file_path, 'w') as output_file:\n",
    "    output_file.writelines(modified_lines)\n",
    "\n",
    "print(\"File paths modified and saved to:\", output_file_path)\n",
    "#---------- to count the nubmer of lines ----------\n",
    "# Open the text file\n",
    "file_path = \"/mnt/home/royseo/fsgroupAug11/bgbridge/rh_aparc_a2009s_path.txt\"\n",
    "\n",
    "with open(file_path, 'r') as file:\n",
    "    # Count the number of lines\n",
    "    line_count = sum(1 for line in file)\n",
    "\n",
    "# Print the number of lines\n",
    "print(\"Number of lines in the rh_aparc_a2009s_path file:\", line_count)"
   ]
  },
  {
   "cell_type": "code",
   "execution_count": null,
   "id": "cb9ea5c0",
   "metadata": {},
   "outputs": [],
   "source": []
  }
 ],
 "metadata": {
  "kernelspec": {
   "display_name": "Python (bgbridge)",
   "language": "python",
   "name": "bgbridge"
  },
  "language_info": {
   "codemirror_mode": {
    "name": "ipython",
    "version": 3
   },
   "file_extension": ".py",
   "mimetype": "text/x-python",
   "name": "python",
   "nbconvert_exporter": "python",
   "pygments_lexer": "ipython3",
   "version": "3.8.16"
  }
 },
 "nbformat": 4,
 "nbformat_minor": 5
}
