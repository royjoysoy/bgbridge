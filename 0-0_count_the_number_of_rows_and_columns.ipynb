{
 "cells": [
  {
   "cell_type": "code",
   "execution_count": 1,
   "id": "3b93f011",
   "metadata": {},
   "outputs": [],
   "source": [
    "# 12-8-2023-Fri \n",
    "# to ount the number of rows and columns of a txt file"
   ]
  },
  {
   "cell_type": "code",
   "execution_count": 2,
   "id": "60c5438b",
   "metadata": {},
   "outputs": [],
   "source": [
    "file_path = \"/mnt/home/royseo/fsgroupAug11/bgbridge/output_lh_aparc.txt\""
   ]
  },
  {
   "cell_type": "code",
   "execution_count": 3,
   "id": "17f92832",
   "metadata": {},
   "outputs": [],
   "source": [
    "num_rows = 0\n",
    "num_columns = 0"
   ]
  },
  {
   "cell_type": "code",
   "execution_count": 5,
   "id": "18e779fa",
   "metadata": {},
   "outputs": [
    {
     "name": "stdout",
     "output_type": "stream",
     "text": [
      "Number of rows: 35\n",
      "Number of columns: 440\n"
     ]
    }
   ],
   "source": [
    "with open(file_path, 'r') as file:\n",
    "    for line in file:\n",
    "        num_rows +=1\n",
    "        columns = line.strip().split('\\t')\n",
    "        num_columns = max(num_columns, len(columns))\n",
    "        \n",
    "print(f\"Number of rows: {num_rows}\")\n",
    "print(f\"Number of columns: {num_columns}\")"
   ]
  },
  {
   "cell_type": "code",
   "execution_count": null,
   "id": "55fe40a2",
   "metadata": {},
   "outputs": [],
   "source": []
  }
 ],
 "metadata": {
  "kernelspec": {
   "display_name": "Python (bgbridge)",
   "language": "python",
   "name": "bgbridge"
  },
  "language_info": {
   "codemirror_mode": {
    "name": "ipython",
    "version": 3
   },
   "file_extension": ".py",
   "mimetype": "text/x-python",
   "name": "python",
   "nbconvert_exporter": "python",
   "pygments_lexer": "ipython3",
   "version": "3.8.16"
  }
 },
 "nbformat": 4,
 "nbformat_minor": 5
}
