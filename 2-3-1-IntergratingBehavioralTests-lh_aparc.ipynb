{
 "cells": [
  {
   "cell_type": "code",
   "execution_count": 1,
   "metadata": {},
   "outputs": [],
   "source": [
    "import pandas as pd"
   ]
  },
  {
   "cell_type": "code",
   "execution_count": 2,
   "metadata": {},
   "outputs": [
    {
     "name": "stdout",
     "output_type": "stream",
     "text": [
      "['Unnamed: 0', 'Unnamed: 1', 'Study_ID', 'Age', 'Edu', 'NPT_date', 'TOPF_raw', 'TOPF_Actual_SS', 'TOPF_Pred_SS', 'WTAR_raw', 'WTAR_SS', 'eFSIQ', 'WRAT4_Read_raw', 'WRAT4_Read_SS', 'MMSE_Tot', 'MoCA_Tot', 'MoCA_MIS', 'WAIS4_Sim_raw', 'WAIS4_Sim_ss', 'WAIS4_BD_raw', 'WAIS4_BD_ss', 'WAIS4_MR_raw', 'WAIS4_MR_ss', 'WAIS4_DS_raw', 'WAIS4_DS_ss', 'WAIS4_Coding_raw', 'WAIS4_Coding_ss', 'WAIS4_DSfwd_raw', 'WAIS4_DSfwd_span', 'WAIS4_DSbwd_raw', 'WAIS4_DSbwd_span', 'WAIS4_Dsseq_raw', 'WAIS4_Dsseq_span', 'WAIS4_Symb_raw', 'WAIS4_Symb_ss', 'WAIS4_Voc_raw', 'WAIS4_Voc_ss', 'WAIS4_Arith_raw', 'WAIS4_Arith_ss', 'WAIS4_VP_raw', 'WAIS4_VP_ss', 'WAIS4_Info_raw', 'WAIS4_Info_ss', 'WAIS4_FSIQ', 'WAIS4_VCI', 'WAIS4_PRI', 'WAIS4_WMI', 'WAIS4_PSI', 'WMS4adult_LMI_raw', 'WMS4adult_LMI_ss', 'WMS4adult_LMII_raw', 'WMS4adult_LMII_ss', 'WMS4adult_VRI_raw', 'WMS4adult_VRI_ss', 'WMS4adult_VRII_raw', 'WMS4adult_VRII_ss', 'WMS4adult_LMIIrecog_raw', 'WMS4adult_LMIIrecog_percent', 'WMS4adult_VRIIrecog_raw', 'WMS4adult_VRIIrecog_percent', 'WMS4adult_VRIIcopy_raw', 'WMS4adult_VRIIcopy_percent', 'WMS4adult_VPI_raw', 'WMS4adult_VPI_ss', 'WMS4adult_VPII_raw', 'WMS4adult_VPII_ss', 'WMS4adult_VPIIrecog_raw', 'WMS4adult_VPIIrecog_percent', 'WMS4oldadult_LMI_raw', 'WMS4oldadult_LMI_ss', 'WMS4oldadult_LMII_raw', 'WMS4oldadult_LMII_ss', 'WMS4oldadult_VRI_raw', 'WMS4oldadult_VRI_ss', 'WMS4oldadult_VRII_raw', 'WMS4oldadult_VRII_ss', 'WMS4oldadult_LMIIrecog_raw', 'WMS4oldadult_LMIIrecog_percent', 'WMS4oldadult_VRIIrecog_raw', 'WMS4oldadult_VRIIrecog_percent', 'WMS4oldadult_VRIIcopy_raw', 'WMS4oldadult_VRIIcopy_percent', 'WMS4oldadult_VPI_raw', 'WMS4oldadult_VPI_ss', 'WMS4oldadult_VPII_raw', 'WMS4oldadult_VPII_ss', 'WMS4oldadult_VPIIrecog_raw', 'WMS4oldadult_VPIIrecog_percent', 'CVLT2_T1_raw', 'CVLT2_T1_z', 'CVLT2_T2_raw', 'CVLT2_T2_z ', 'CVLT2_T3_raw', 'CVLT2_T3_z ', 'CVLT2_T4_raw', 'CVLT2_T4_z ', 'CVLT2_T5_raw', 'CVLT2_T5_z (RS: Standard Score)', 'CVLT2_T1T5tot_raw', 'CVLT2_T1T5tot_z(RS: Tscore)', 'CVLT2_ListB_raw', 'CVLT2_ListB_z(RS: Standard Score)', 'CVLT2_SDFR_raw', 'CVLT2_SDFR_z(RS: Standard Score)', 'CVLT2_SDCR_raw', 'CVLT2_SDCR_z(RS: Standard Score)', 'CVLT2_LDFR_raw', 'CVLT2_LDFR_z(RS: Standard Score)', 'CVLT2_LDCR_raw', 'CVLT2_LDCR_z(RS: Standard Score)', 'CVLT2_RecHits_raw', 'CVLT2_RecHits_z', 'CVLT2_RecFP_raw', 'CVLT2_RecFP_z', 'CVLT2_FCrecog_raw', 'CVLT2_FCrecog_percent', 'CVLT3_T1_raw', 'CVLT3_T1_ss', 'CVLT3_T2_raw', 'CVLT3_T2_ss', 'CVLT3_T3_raw', 'CVLT3_T3_ss', 'CVLT3_T4_raw', 'CVLT3_T4_ss', 'CVLT3_T5_raw', 'CVLT3_T5_ss', 'CVLT3_T1T5total_raw', 'CVLT3_T1T5tot_raw(sumofss)', 'CVLT3_T1T5tot_SS(index)', 'CVLT3_ListB_raw', 'CVLT3_ListB_ss', 'CVLT3_SDFR_raw', 'CVLT3_SDFR_ss', 'CVLT3_SDCR_raw', 'CVLT3_SDCR_ss', 'CVLT3_LDFR_raw', 'CVLT3_LDFR_ss', 'CVLT3_LDCR_raw', 'CVLT3_LDCR_ss', 'CVLT3_RecHits_raw', 'CVLT3_RecHits_ss', 'CVLT3_RecFP_raw', 'CVLT3_RecFP_ss', 'CVLT3_FCrecog_raw', 'CVLT3_FCrecog_percent', 'CVLT2_SF_T1_raw', 'CVLT2_SF_T1_z', 'CVLT2_SF_T2_raw', 'CVLT2_SF_T2_z', 'CVLT2_SF_T3_raw', 'CVLT2_SF_T3_z', 'CVLT2_SF_T4_raw', 'CVLT2_SF_T4_z', 'CVLT2_SF_T1T4total_raw', 'CVLT2_SF_T1T4tot_raw', 'CVLT2_SF_T1T4tot_T', 'CVLT2_SF_SDFR_raw', 'CVLT2_SF_SDFR_z', 'CVLT2_SF_LDFR_raw', 'CVLT2_SF_LDFR_z', 'CVLT2_SF_LDCR_raw', 'CVLT2_SF_LDCR_z', 'CVLT2_SF_RecHits_raw', 'CVLT2_SF_RecHits_z', 'CVLT2_SF_RecFP_raw', 'CVLT2_SF_RecFP_z', 'CVLT2_SF_FCrecog_raw', 'CVLT2_SF_FCrecog_percent', 'CVLT3_BF_T1_raw', 'CVLT3_BF_T1_ss', 'CVLT3_BF_T2_raw', 'CVLT3_BF_T2_ss', 'CVLT3_BF_T3_raw', 'CVLT3_BF_T3_ss', 'CVLT3_BF_T4_raw', 'CVLT3_BF_T4_ss', 'CVLT3_BF_SDFR_raw', 'CVLT3_BF_SDFR_ss', 'CVLT3_BF_LDFR_raw', 'CVLT3_BF_LDFR_ss', 'CVLT3_BF_LDCR_raw', 'CVLT3_BF_LDCR_ss', 'CVLT3_BF_RecHits_raw', 'CVLT3_BF_RecHits_ss', 'CVLT3_BF_RecFP_raw', 'CVLT3_BF_RecFP_ss', 'CVLT3_BF_FCrecog_raw', 'CVLT3_BF_FCrecog_percent', 'CVLT3_BF_T1T4tot_raw', 'CVLT3_BF_T1T4tot_ss', 'RAVLT_T1_raw', 'RAVLT_T1_z', 'RAVLT_T2_raw', 'RAVLT_T2_z', 'RAVLT_T3_raw', 'RAVLT_T3_z', 'RAVLT_T4_raw', 'RAVLT_T4_z', 'RAVLT_T5_raw', 'RAVLT_T5_T', 'RAVLT_T1T5tot_raw', 'RAVLT_T1T5tot_z', 'RAVLT_ListB_raw', 'RAVLT_ListB_z', 'RAVLT_SDFR_raw(immediate)', 'RAVLT_SDFR_z', 'RAVLT_LDFR_raw(delay)', 'RAVLT_LDFR_z', 'RAVLT_Recog_raw(recognition)', 'RAVLT_Recog_z', 'RAVLT_RecFP_raw(look at the next page)', \"RAVLT_RecFP_z(we don't have it)\", \"RAVLT_Fcrecog_raw(we don't have it)\", \"RAVLT_Fcrecog_z(doesn't exist)\", 'HVLT_T1T3tot_raw', 'HVLT_T1T3tot_T', 'HVLT_Delay_raw', 'HVLT_Delay_T', 'HVLT_PercentRet_raw', 'HVLT_PercentRet_T', 'HVLT_RecogDiscrim_raw', 'HVLT_RecogDiscrim_T', 'HVLT_Hits_raw', 'HVLT_FP_raw', 'BVMT_T1_raw', 'BVMT_T1_T', 'BVMT_T2_raw', 'BVMT_T2_T', 'BVMT_T3_raw', 'BVMT_T3_T', 'BVMT_T1T3tot_raw', 'BVMT_T1T3tot_T', 'BVMT_Delay_raw', 'BVMT_Delay_T', 'BVMT_PercentRet_raw', 'BVMT_PercentRet_T', 'BVMT_Hits_raw', 'BVMT_FP_raw', 'BVMT_RecogDiscrim_raw', 'BVMT_RecogDiscrim_percent', 'BVMT_copy', 'RCFT_Copy_raw', 'RCFT_Copy_percentile', 'RCFT_Immed_raw', 'RCFT_Immed_T', 'RCFT_Delay_raw', 'RCFT_Delay_T', 'RCFT_Recog_raw', 'RCFT_Recog', 'FAS_total_raw', 'FAS_total_T', 'Animals_raw', 'Animals_T', 'DKEFS_VF_Letter_raw', 'DKEFS_VF_Letter_ss', 'DKEFS_VF_Category_raw', 'DKEFS_VF_Category_ss', 'DKEFS_VF_CatSwitch_raw', 'DKEFS_VF_CatSwitch_ss', 'DKEFS_VF_SwitchAccur_raw', 'DKEFS_VF_SwitchAccur_ss', 'BNT_totalwstim_raw', 'BNT_totalwstim_T', 'BNT_MOANS', 'NAB_naming_raw', 'NAB_naming_T', 'Token_raw', 'Token_T', 'Token_MOANS', 'BDAE_CompIdeat_raw', 'BDAE_CompIdeat_T', 'JOLO_agecorrected_raw', 'JOLO_percentile', 'JOLO_MOANS', 'Benton_FacialRecog', 'Benton_FacialRecog_percent', 'Benton_VisualDiscrim', 'Benton_VisualDiscrim_percent', 'HVOT_total_raw', 'HVOT_total_percent', 'NAB_VisualDiscrim', 'TrailsA_time_raw', 'TrailsA_time_T', 'TrailsA_err', 'TrailsB_time_raw', 'TrailsB_time_T', 'TrailsB_err', 'Trail_A_MOANS', 'Trail_B_MOANS', 'Stroop_Word_raw', 'Stroop_Word_T', 'Stroop_Color_raw', 'Stroop_Color_T', 'Stroop_CW_raw', 'Stroop_CW_T', 'Stroop_Word_MOANS', 'Stroop_Color_MOANS', 'Stroop_CW_MOANS', 'DKEFS_CWI_Color_raw', 'DKEFS_CWI_Color_ss', 'DKEFS_CWI_Word_raw', 'DKEFS_CWI_Word_ss', 'DKEFS_CWI_Inhib_raw', 'DKEFS_CWI_Inhib_ss', 'DKEFS_CWI_InhibSwitch_raw', 'DKEFS_CWI_InhibSwitch_ss', 'WCST128_Categ_raw', 'WCST128_Categ_percent', 'WCST128_toterr_raw', 'WCST128_toterr_T', 'WCST128_perseverr_raw', 'WCST128_perseverr_T', 'WCST128_trialsto1st_raw', 'WCST128_trialsto1st_percent', 'WCST128_FTMS_raw', 'WCST128_FTMS_percent', 'WCST64_Categ_raw', 'WCST64_Categ_percent', 'WCST64_toterr_raw', 'WCST64_toterr_T', 'WCST64_perseverr_raw', 'WCST64_perseverr_T', 'WCST64_trialsto1st_raw', 'WCST64_trialsto1st_percent', 'WCST64_FTMS_raw', 'WCST64_FTMS_percent', 'mWCST_Categ_raw', 'mWCST_Categ_T', 'mWCST_perseverr_raw', 'mWCST_perseverr_T', 'mWCST_toterr_raw', 'mWCST_toterr_T', 'mWCST_composite_raw', 'mWCST_composite_SS', 'DKEFS_Tower_TotAchv_raw', 'DKEFS_Tower_TotAchv_ss', 'DKEFS_Tower_RuleViol_raw', 'DKEFS_Tower_RuleViol_ss', 'CategoryTest_Total_raw', 'CategoryTest_Total_T', 'CategoryTest_Err_raw', 'CategoryTest_Err_T', 'TowerLonder_Tot_raw', 'TowerLonder_Tot_T', 'SDMT_Oral_total_raw', 'SDMT_Oral_total_z', 'SDMT_Oral_err', 'SDMT_Writ_total_raw', 'SDMT_Writ_total_z', 'SDMT_Writ_err', 'Peg_DH_time_raw', 'Peg_DH_time_T', 'Peg_NDH_time_raw', 'Peg_NDH_time_T', 'Tap_DH_time_raw', 'Tap_DH_time_T', 'Tap_NDH_time_raw', 'Tap_NDH_time_T', 'GDS_total', 'GAI_total', 'BDI_total', 'BAI_total', 'PHQ9_total', 'ADL_total', 'FRSBE_before', 'FRSBE_after', 'NPIq_total_severity', 'NPIq_total_stress']\n"
     ]
    }
   ],
   "source": [
    "#%%capture\n",
    "#read MBWC data\n",
    "file = 'MBWCrepository_NPTdatabase_6.3.2021.xlsx'\n",
    "sheet= \"Database\"\n",
    "df = pd.read_excel(file, sheet_name = sheet)\n",
    "names =  df.columns.tolist()\n",
    "print(names)\n",
    "#shorten the subject ID\n",
    "df['Study_ID'] = df['Study_ID'].astype(str)\n",
    "df['Study_ID']=df['Study_ID'].apply(lambda x: x[:8])\n",
    "output_file_path = \"NPT.csv\"\n",
    "df.to_csv(output_file_path, index = False)"
   ]
  },
  {
   "cell_type": "code",
   "execution_count": 3,
   "metadata": {},
   "outputs": [
    {
     "name": "stdout",
     "output_type": "stream",
     "text": [
      "['Study_ID', 'bankssts', 'caudalanteriorcingulate', 'caudalmiddlefrontal', 'cuneus', 'entorhinal', 'fusiform', 'inferiorparietal', 'inferiortemporal', 'isthmuscingulate', 'lateraloccipital', 'lateralorbitofrontal', 'lingual', 'medialorbitofrontal', 'middletemporal', 'parahippocampal', 'paracentral', 'parsopercularis', 'parsorbitalis', 'parstriangularis', 'pericalcarine', 'postcentral', 'posteriorcingulate', 'precentral', 'precuneus', 'rostralanteriorcingulate', 'rostralmiddlefrontal', 'superiorfrontal', 'superiorparietal', 'superiortemporal', 'supramarginal', 'frontalpole', 'temporalpole', 'transversetemporal', 'insula', 'Handedness']\n"
     ]
    }
   ],
   "source": [
    "#%%capture\n",
    "# open a csv file that merged to df above\n",
    "file2 = \"merged_lh_aparc.csv\"\n",
    "df2 = pd.read_csv(file2)\n",
    "names2 =  df2.columns.tolist()\n",
    "print(names2)\n",
    "# merge the two dataframes (vol,handedess + NPTs)\n",
    "merged_vol_hand_npt_lh_aparc = pd.merge(df, df2, on = 'Study_ID')\n",
    "#print(merged_vol_hand_npt)"
   ]
  },
  {
   "cell_type": "code",
   "execution_count": 4,
   "metadata": {},
   "outputs": [],
   "source": [
    "#save results as a csv fi\n",
    "merged_vol_hand_npt_lh_aparc.to_csv('merged_vol_hand_npt_lh_aparc.csv', index = False)"
   ]
  },
  {
   "cell_type": "code",
   "execution_count": null,
   "metadata": {},
   "outputs": [],
   "source": []
  }
 ],
 "metadata": {
  "kernelspec": {
   "display_name": "Python 3 (ipykernel)",
   "language": "python",
   "name": "python3"
  },
  "language_info": {
   "codemirror_mode": {
    "name": "ipython",
    "version": 3
   },
   "file_extension": ".py",
   "mimetype": "text/x-python",
   "name": "python",
   "nbconvert_exporter": "python",
   "pygments_lexer": "ipython3",
   "version": "3.11.5"
  }
 },
 "nbformat": 4,
 "nbformat_minor": 4
}
