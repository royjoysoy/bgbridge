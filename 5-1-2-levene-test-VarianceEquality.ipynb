{
 "cells": [
  {
   "cell_type": "code",
   "execution_count": 5,
   "metadata": {},
   "outputs": [],
   "source": [
    "import pandas as pd\n",
    "from scipy.stats import levene"
   ]
  },
  {
   "cell_type": "code",
   "execution_count": 9,
   "metadata": {},
   "outputs": [
    {
     "name": "stdout",
     "output_type": "stream",
     "text": [
      "The variances NOT different\n",
      "TOPF_raw: Levene's test statistic: nan, p-valuenan\n",
      "The variances NOT different\n",
      "TOPF_Actual_SS: Levene's test statistic: nan, p-valuenan\n",
      "The variances NOT different\n",
      "TOPF_Pred_SS: Levene's test statistic: nan, p-valuenan\n",
      "The variances NOT different\n",
      "BNT_totalwstim_raw: Levene's test statistic: nan, p-valuenan\n",
      "The variances NOT different\n",
      "BNT_totalwstim_T: Levene's test statistic: nan, p-valuenan\n",
      "The variances NOT different\n",
      "FAS_total_raw: Levene's test statistic: nan, p-valuenan\n",
      "The variances NOT different\n",
      "FAS_total_T: Levene's test statistic: nan, p-valuenan\n",
      "The variances NOT different\n",
      "Animals_raw: Levene's test statistic: nan, p-valuenan\n",
      "The variances NOT different\n",
      "Animals_T: Levene's test statistic: nan, p-valuenan\n",
      "The variances NOT different\n",
      "Left-Caudate: Levene's test statistic: 0.451, p-value0.637\n",
      "The variances NOT different\n",
      "Right-Caudate: Levene's test statistic: 0.039, p-value0.962\n",
      "The variances NOT different\n",
      "Left-Putamen: Levene's test statistic: 2.126, p-value0.121\n",
      "The variances NOT different\n",
      "Right-Putamen: Levene's test statistic: 1.236, p-value0.292\n"
     ]
    }
   ],
   "source": [
    "# Shapiro_test\n",
    "df = pd.read_csv('data.csv')\n",
    "pd.set_option('max_columns', None)\n",
    "#print(list(df.columns))\n",
    "\n",
    "# 1 Mild Cognitive Impairment\n",
    "# 2 Dementia\n",
    "# 3 Subjective Memory Complaint/Normal Cognition\n",
    "# 4 Unknown - defer to record\n",
    "\n",
    "def levenetest(group_number1, group_number2, group_number3, interest):\n",
    "    df1 = df[df['syndrome_v2_v2'] == group_number1]\n",
    "    df1_interest = df1[interest]\n",
    "    \n",
    "    df2 = df[df['syndrome_v2_v2'] == group_number2]\n",
    "    df2_interest = df2[interest]\n",
    "    \n",
    "    df3 = df[df['syndrome_v2_v2'] == group_number3]\n",
    "    df3_interest = df3[interest]\n",
    "      \n",
    "    stat, p = levene(df1_interest, df2_interest, df3_interest)\n",
    "    \n",
    "    if p < 0.05:\n",
    "        print(\"The variances are significantly different\")\n",
    "    else:\n",
    "        print(\"The variances NOT different\")\n",
    "    print(f\"{interest}: Levene's test statistic: {stat:.3f}, p-value{p:.3f}\")\n",
    "    \n",
    "    \n",
    "    \n",
    "    \n",
    "for ii in [\"TOPF_raw\", \"TOPF_Actual_SS\", \"TOPF_Pred_SS\", \n",
    "               \"BNT_totalwstim_raw\", \"BNT_totalwstim_T\",\n",
    "               \"FAS_total_raw\", \"FAS_total_T\",\n",
    "               \"Animals_raw\", \"Animals_T\",\n",
    "               \"Left-Caudate\", \"Right-Caudate\",\n",
    "               \"Left-Putamen\", \"Right-Putamen\"]:\n",
    "    levenetest(1,2,3, ii)"
   ]
  },
  {
   "cell_type": "code",
   "execution_count": null,
   "metadata": {},
   "outputs": [],
   "source": []
  }
 ],
 "metadata": {
  "kernelspec": {
   "display_name": "Python 3 (ipykernel)",
   "language": "python",
   "name": "python3"
  },
  "language_info": {
   "codemirror_mode": {
    "name": "ipython",
    "version": 3
   },
   "file_extension": ".py",
   "mimetype": "text/x-python",
   "name": "python",
   "nbconvert_exporter": "python",
   "pygments_lexer": "ipython3",
   "version": "3.11.5"
  }
 },
 "nbformat": 4,
 "nbformat_minor": 4
}
