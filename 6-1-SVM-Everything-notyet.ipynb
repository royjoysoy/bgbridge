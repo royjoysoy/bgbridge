{
 "cells": [
  {
   "cell_type": "code",
   "execution_count": 2,
   "metadata": {
    "scrolled": true
   },
   "outputs": [],
   "source": [
    "from sklearn.datasets import make_classification\n",
    "from sklearn.svm import SVC\n",
    "from sklearn.model_selection import train_test_split\n",
    "from sklearn.metrics import accuracy_score \n",
    "from sklearn.preprocessing import LabelEncoder\n",
    "\n",
    "import pandas as pd\n",
    "# import sys\n",
    "# #print(sys.version)\n",
    "# print(sys.executable)\n",
    "# #from skcuda import svm\n",
    "# from skcuda import svm\n",
    "# from skcuda import cudart"
   ]
  },
  {
   "cell_type": "code",
   "execution_count": 3,
   "metadata": {},
   "outputs": [
    {
     "name": "stdout",
     "output_type": "stream",
     "text": [
      "y: {0.0, 1.0}\n"
     ]
    }
   ],
   "source": [
    "#1.dataset load\n",
    "df = pd.read_csv('data.csv')\n",
    "pd.set_option('max_columns',None)\n",
    "#print(list(df.columns))\n",
    "'''\n",
    "1 Mild Cognitive Impairment\n",
    "2 Dementia\n",
    "3 Subjective Memory Complaint/Normal Cognition\n",
    "4 Unknown - defer to record\n",
    "'''\n",
    "# Filter out unwanted rows and define the label column\n",
    "df = df[(df['syndrome_v2_v2'] != 4) & (df['syndrome_v2_v2'] != 3)] \n",
    "label = 'syndrome_v2_v2' #mild cognitive impairment and Dementia\n",
    "\n",
    "# Split the data into features and labels\n",
    "cols_of_interest = [ 'Left-Lateral-Ventricle']\n",
    "                     'Left-Inf-Lat-Vent']\n",
    "                                'Left-Cerebellum-White-Matter']\n",
    "                                'Left-Cerebellum-Cortex']\n",
    "                                'Left-Thalamus-Proper']\n",
    "                                'Left-Caudate']\n",
    "                                'Left-Putamen']\n",
    "                                'Left-Pallidum']\n",
    "                                '3rd-Ventricle']\n",
    "                                '4th-Ventricle'\n",
    "                                'Brain-Stem']\n",
    "                                'Left-Hippocampus']\n",
    "                                'Left-Amygdala']\n",
    "                                'CSF']\n",
    "                                'Left-Accumbens-area']\n",
    "                                'Left-VentralDC']\n",
    "                                'Left-vessel']\n",
    "                                'Left-choroid-plexus']\n",
    "                                'Right-Lateral-Ventricle']\n",
    "                                'Right-Inf-Lat-Vent']\n",
    "                                'Right-Cerebellum-White-Matter']\n",
    "                                'Right-Cerebellum-Cortex']\n",
    "                                'Right-Thalamus-Proper']\n",
    "                                'Right-Caudate']\n",
    "                                'Right-Putamen']\n",
    "                                'Right-Pallidum']\n",
    "                                'Right-Hippocampus']\n",
    "                                'Right-Amygdala']\n",
    "                                'Right-Accumbens-area']\n",
    "                                'Right-VentralDC']\n",
    "                                'Right-vessel']\n",
    "                                'Right-choroid-plexus']\n",
    "                                '5th-Ventricle']\n",
    "                                'WM-hypointensities']\n",
    "                                'Left-WM-hypointensities']\n",
    "                                'Right-WM-hypointensities']\n",
    "                                'non-WM-hypointensities']\n",
    "                                'Left-non-WM-hypointensities']\n",
    "                                'Right-non-WM-hypointensities']\n",
    "                                'Optic-Chiasm']\n",
    "                                'CC_Posterior']\n",
    "                                'CC_Mid_Posterior']\n",
    "                                'CC_Central']\n",
    "                                'CC_Mid_Anterior']\n",
    "                                'CC_Anterior']\n",
    "                    #'Animals_raw']\n",
    "#  'BNT_totalwstim_raw'] 'FAS_total_raw'] 'TOPF_raw']'WTAR_raw'\n",
    "X = df[cols_of_interest].copy() # Features\n",
    "y = df[label].copy()\n",
    "\n",
    "\n",
    "# Encode labels using LabelEncoder\n",
    "le = LabelEncoder()\n",
    "y = le.fit_transform(y)\n",
    "\n",
    "# Combine Xs and y into a single dataframe \n",
    "df = pd.concat([X, pd.DataFrame(y, columns = [label])], axis = 1)\n",
    "\n",
    "# Drop missing values\n",
    "df.dropna(inplace = True)\n",
    "\n",
    "\n",
    "# Separate X and y again\n",
    "X = df[cols_of_interest]\n",
    "y = df[label]\n",
    "\n",
    "#print('X:', X)\n",
    "print('y:', set(y))"
   ]
  },
  {
   "cell_type": "code",
   "execution_count": 4,
   "metadata": {},
   "outputs": [],
   "source": [
    "#2.train/test split\n",
    "X_train, X_test, y_train, y_test = train_test_split(X, y, test_size = 0.2, random_state = 123)"
   ]
  },
  {
   "cell_type": "code",
   "execution_count": 5,
   "metadata": {},
   "outputs": [],
   "source": [
    "#3.Create an SVM instance, nonlinear model\n",
    "obj = SVC(C = 1.0, kernel = 'rbf', gamma = 'scale')\n",
    "model = obj.fit(X_train, y_train)\n",
    "\n",
    "obj1 = SVC(C = 1.0, kernel = 'linear', gamma = 'scale')\n",
    "model1 = obj1.fit(X_train, y_train)\n",
    "\n",
    "obj2 = SVC(C = 1.0, kernel = 'poly', gamma = 'scale')\n",
    "model2 = obj1.fit(X_train, y_train)\n",
    "\n",
    "\n",
    "obj3 = SVC(C = 1.0, kernel = 'sigmoid', gamma = 'scale')\n",
    "model3 = obj1.fit(X_train, y_train)\n",
    "\n",
    "obj4 = SVC(C = 1.0, kernel = 'precomputed', gamma = 'scale')\n",
    "model4 = obj1.fit(X_train, y_train)"
   ]
  },
  {
   "cell_type": "code",
   "execution_count": 15,
   "metadata": {},
   "outputs": [
    {
     "name": "stdout",
     "output_type": "stream",
     "text": [
      "accuracy= 0.5333333333333333\n",
      "accuracy= 0.5666666666666667\n",
      "accuracy= 0.5666666666666667\n",
      "accuracy= 0.5666666666666667\n",
      "accuracy= 0.5666666666666667\n"
     ]
    }
   ],
   "source": [
    "#4. model evaluation\n",
    "y_pred = model.predict(X = X_test)\n",
    "acc = accuracy_score(y_test, y_pred)\n",
    "print('accuracy=', acc)\n",
    "\n",
    "y_pred = model1.predict(X = X_test)\n",
    "acc = accuracy_score(y_test, y_pred)\n",
    "print('accuracy=', acc)\n",
    "\n",
    "y_pred = model2.predict(X = X_test)\n",
    "acc = accuracy_score(y_test, y_pred)\n",
    "print('accuracy=', acc)\n",
    "\n",
    "y_pred = model3.predict(X = X_test)\n",
    "acc = accuracy_score(y_test, y_pred)\n",
    "print('accuracy=', acc)\n",
    "\n",
    "y_pred = model4.predict(X = X_test)\n",
    "acc = accuracy_score(y_test, y_pred)\n",
    "print('accuracy=', acc)"
   ]
  },
  {
   "cell_type": "code",
   "execution_count": 16,
   "metadata": {},
   "outputs": [
    {
     "name": "stdout",
     "output_type": "stream",
     "text": [
      "Fitting 3 folds for each of 30 candidates, totalling 90 fits\n"
     ]
    },
    {
     "name": "stderr",
     "output_type": "stream",
     "text": [
      "[Parallel(n_jobs=-1)]: Using backend LokyBackend with 28 concurrent workers.\n"
     ]
    },
    {
     "name": "stdout",
     "output_type": "stream",
     "text": [
      "best score = 0.5666666666666667\n",
      "best parameters =  {'C': 0.01, 'gamma': 'scale', 'kernel': 'rbf'}\n"
     ]
    },
    {
     "name": "stderr",
     "output_type": "stream",
     "text": [
      "[Parallel(n_jobs=-1)]: Done  90 out of  90 | elapsed:    2.5s finished\n"
     ]
    }
   ],
   "source": [
    "#5. Grid Search\n",
    "from sklearn.model_selection import GridSearchCV\n",
    "\n",
    "params = {'kernel': ['rbf', 'linear' ,'sigmoid'], #'poly'], #,'sigmoid'],\n",
    "         'C': [0.01, 0.1, 1.0, 10.0, 100.0],\n",
    "         'gamma':['scale', 'auto']} \n",
    "\n",
    "grid_model = GridSearchCV(model, param_grid = params, cv = 3, verbose = 1,\n",
    "                         scoring = 'accuracy', n_jobs = -1).fit(X_test,y_test)\n",
    "\n",
    "print('best score =', grid_model.best_score_)\n",
    "print('best parameters = ', grid_model.best_params_)"
   ]
  },
  {
   "cell_type": "code",
   "execution_count": 6,
   "metadata": {},
   "outputs": [
    {
     "ename": "NameError",
     "evalue": "name 'x_train' is not defined",
     "output_type": "error",
     "traceback": [
      "\u001b[0;31m---------------------------------------------------------------------------\u001b[0m",
      "\u001b[0;31mNameError\u001b[0m                                 Traceback (most recent call last)",
      "Cell \u001b[0;32mIn[6], line 1\u001b[0m\n\u001b[0;32m----> 1\u001b[0m (\u001b[43mx_train\u001b[49m, y_train), (x_val, y_val)\n\u001b[1;32m      3\u001b[0m X \u001b[38;5;241m=\u001b[39m df[cols_of_interest]\u001b[38;5;241m.\u001b[39mcopy() \u001b[38;5;66;03m# Features\u001b[39;00m\n\u001b[1;32m      4\u001b[0m y \u001b[38;5;241m=\u001b[39m df[label]\u001b[38;5;241m.\u001b[39mcopy()\n",
      "\u001b[0;31mNameError\u001b[0m: name 'x_train' is not defined"
     ]
    }
   ],
   "source": [
    "(x_train, y_train), (x_val, y_val)\n",
    "\n",
    "X = df[cols_of_interest].copy() # Features\n",
    "y = df[label].copy()\n",
    "\n",
    "\n",
    "x_train.shape #(404, 13)\n",
    "x_val.shape # (102,13)\n",
    "y_val.shape # (102, )\n",
    "X, y = boston = load_boston(return_X_y=True)\n",
    "X.shape # (150, 4)\n",
    "y.shape # (150,)"
   ]
  },
  {
   "cell_type": "code",
   "execution_count": null,
   "metadata": {},
   "outputs": [],
   "source": [
    "from sklearn.model_selection import train_test_split # split\n",
    "from sklearn.preprocessing import minmax_scale # 정규화(0~1) \n",
    "from sklearn.metrics import mean_squared_error, r2_score\n",
    "\n",
    "import tensorflow as tf # ver 2.x\n",
    "from tensorflow.keras.datasets import boston_housing\n",
    "from tensorflow.keras import Sequential # model 생성 \n",
    "from tensorflow.keras.layers import Dense # DNN layer"
   ]
  }
 ],
 "metadata": {
  "kernelspec": {
   "display_name": "Python 3 (ipykernel)",
   "language": "python",
   "name": "python3"
  },
  "language_info": {
   "codemirror_mode": {
    "name": "ipython",
    "version": 3
   },
   "file_extension": ".py",
   "mimetype": "text/x-python",
   "name": "python",
   "nbconvert_exporter": "python",
   "pygments_lexer": "ipython3",
   "version": "3.8.5"
  }
 },
 "nbformat": 4,
 "nbformat_minor": 4
}
