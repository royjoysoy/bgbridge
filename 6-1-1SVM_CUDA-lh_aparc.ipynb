{
 "cells": [
  {
   "cell_type": "code",
   "execution_count": 1,
   "metadata": {},
   "outputs": [],
   "source": [
    "import ipykernel"
   ]
  },
  {
   "cell_type": "code",
   "execution_count": 5,
   "metadata": {
    "scrolled": false
   },
   "outputs": [
    {
     "name": "stdout",
     "output_type": "stream",
     "text": [
      "3.8.16 | packaged by conda-forge | (default, Feb  1 2023, 16:01:55) \n",
      "[GCC 11.3.0]\n",
      "/mnt/home/royseo/.conda/envs/bgbridge/bin/python\n"
     ]
    }
   ],
   "source": [
    "from sklearn.datasets import make_classification\n",
    "from sklearn.svm import SVC\n",
    "from sklearn.model_selection import train_test_split\n",
    "from sklearn.metrics import accuracy_score \n",
    "from sklearn.preprocessing import LabelEncoder\n",
    "\n",
    "import pandas as pd\n",
    "import sys\n",
    "#import cupy\n",
    "print(sys.version)\n",
    "print(sys.executable)\n",
    "\n",
    "from sklearn import svm\n",
    "#from skcuda import cudart\n",
    "from sklearn.preprocessing import StandardScaler\n",
    "#import cupy as cp\n",
    "\n",
    "#!nvidia-smi"
   ]
  },
  {
   "cell_type": "code",
   "execution_count": 8,
   "metadata": {},
   "outputs": [
    {
     "name": "stdout",
     "output_type": "stream",
     "text": [
      "['V1', 'Study_ID', 'patientlist_ethnicbackground_v2_v2', 'patientlist_ethnicgroup_v2_v2', 'age_at_onset_v2_v2', 'syndrome_v2_v2', 'syndromeseverityconfidence_v2_v2', 'Age', 'Edu', 'NPT_date', 'FAS_total_raw', 'FAS_total_T', 'Animals_raw', 'Animals_T', 'BNT_totalwstim_raw', 'BNT_totalwstim_T', 'bankssts', 'caudalanteriorcingulate', 'caudalmiddlefrontal', 'cuneus', 'entorhinal', 'fusiform', 'inferiorparietal', 'inferiortemporal', 'isthmuscingulate', 'lateraloccipital', 'lateralorbitofrontal', 'lingual', 'medialorbitofrontal', 'middletemporal', 'parahippocampal', 'paracentral', 'parsopercularis', 'parsorbitalis', 'parstriangularis', 'pericalcarine', 'postcentral', 'posteriorcingulate', 'precentral', 'precuneus', 'rostralanteriorcingulate', 'rostralmiddlefrontal', 'superiorfrontal', 'superiorparietal', 'superiortemporal', 'supramarginal', 'frontalpole', 'temporalpole', 'transversetemporal', 'insula', 'Handedness']\n"
     ]
    }
   ],
   "source": [
    "#1.dataset load\n",
    "df = pd.read_csv('4-1-add-dx-lh_aparc.csv')\n",
    "#pd.set_option('max_columns', None)\n",
    "print(list(df.columns))\n"
   ]
  },
  {
   "cell_type": "code",
   "execution_count": 9,
   "metadata": {},
   "outputs": [
    {
     "name": "stdout",
     "output_type": "stream",
     "text": [
      "['V1', 'Study_ID', 'patientlist_ethnicbackground_v2_v2', 'patientlist_ethnicgroup_v2_v2', 'age_at_onset_v2_v2', 'syndrome_v2_v2', 'syndromeseverityconfidence_v2_v2', 'Age', 'Edu', 'NPT_date', 'FAS_total_raw', 'FAS_total_T', 'Animals_raw', 'Animals_T', 'BNT_totalwstim_raw', 'BNT_totalwstim_T', 'bankssts', 'caudalanteriorcingulate', 'caudalmiddlefrontal', 'cuneus', 'entorhinal', 'fusiform', 'inferiorparietal', 'inferiortemporal', 'isthmuscingulate', 'lateraloccipital', 'lateralorbitofrontal', 'lingual', 'medialorbitofrontal', 'middletemporal', 'parahippocampal', 'paracentral', 'parsopercularis', 'parsorbitalis', 'parstriangularis', 'pericalcarine', 'postcentral', 'posteriorcingulate', 'precentral', 'precuneus', 'rostralanteriorcingulate', 'rostralmiddlefrontal', 'superiorfrontal', 'superiorparietal', 'superiortemporal', 'supramarginal', 'frontalpole', 'temporalpole', 'transversetemporal', 'insula', 'Handedness']\n"
     ]
    }
   ],
   "source": [
    "#1.dataset load\n",
    "df = pd.read_csv('4-1-add-dx-lh_aparc.csv')\n",
    "#pd.set_option('max_columns', None)\n",
    "print(list(df.columns))\n",
    "'''\n",
    "1 Mild Cognitive Impairment\n",
    "2 Dementia\n",
    "3 Subjective Memory Complaint/Normal Cognition\n",
    "4 Unknown - defer to record\n",
    "'''\n",
    "# Filter out unwanted rows and define the label column\n",
    "df = df[(df['syndrome_v2_v2'] != 4) & (df['syndrome_v2_v2'] != 3)] \n",
    "label = 'syndrome_v2_v2' #mild cognitive impairment and Dementia\n",
    "\n",
    "# Split the data into features and labels\n",
    "cols_of_interest = ['FAS_total_raw', \n",
    "                    'FAS_total_T', \n",
    "                    'Animals_raw', \n",
    "                    'Animals_T', \n",
    "                    'BNT_totalwstim_raw', \n",
    "                    'BNT_totalwstim_T', \n",
    "                    'bankssts', \n",
    "                    'caudalanteriorcingulate', \n",
    "                    'caudalmiddlefrontal', \n",
    "                    'cuneus', \n",
    "                    'entorhinal', \n",
    "                    'fusiform', \n",
    "                    'inferiorparietal', \n",
    "                    'inferiortemporal', \n",
    "                    'isthmuscingulate', \n",
    "                    'lateraloccipital', \n",
    "                    'lateralorbitofrontal', \n",
    "                    'lingual', \n",
    "                    'medialorbitofrontal', \n",
    "                    'middletemporal', \n",
    "                    'parahippocampal', \n",
    "                    'paracentral', \n",
    "                    'parsopercularis', \n",
    "                    'parsorbitalis', \n",
    "                    'parstriangularis', \n",
    "                    'pericalcarine', 'postcentral', 'posteriorcingulate', 'precentral', 'precuneus', 'rostralanteriorcingulate', 'rostralmiddlefrontal', 'superiorfrontal', 'superiorparietal', 'superiortemporal', 'supramarginal', 'frontalpole', 'temporalpole', 'transversetemporal', 'insula']\n",
    "X = df[cols_of_interest].copy() # Features\n",
    "y = df[label].copy()\n",
    "\n",
    "\n",
    "# Encode labels using LabelEncoder\n",
    "le = LabelEncoder()\n",
    "y = le.fit_transform(y)\n",
    "\n",
    "# Combine Xs and y into a single dataframe \n",
    "df = pd.concat([X, pd.DataFrame(y, columns = [label])], axis = 1)\n",
    "\n",
    "# Drop missing values\n",
    "df.dropna(inplace = True)\n",
    "\n",
    "\n",
    "# Separate X and y again\n",
    "X = df[cols_of_interest]\n",
    "y = df[label]"
   ]
  },
  {
   "cell_type": "code",
   "execution_count": 13,
   "metadata": {},
   "outputs": [],
   "source": [
    "#2.Train/test split\n",
    "X_train, X_test, y_train, y_test = train_test_split(X, y, test_size = 0.2, random_state = 123)\n",
    "\n",
    "#2-1. Move data to GPU\n",
    "# X_train = asarray(X_train)\n",
    "# X_test = asarray(X_test)\n",
    "# y_train = asarray(y_train)\n",
    "# y_test = asarray(y_test)\n",
    "\n",
    "\n",
    "# print(X_train.device)\n",
    "# print(X_test.device)\n",
    "# print(y_train.device)\n",
    "# print(y_test.device)"
   ]
  },
  {
   "cell_type": "code",
   "execution_count": 14,
   "metadata": {},
   "outputs": [],
   "source": [
    "#3.Create an SVM instance, nonlinear model\n",
    "obj = SVC(C = 1.0, kernel = 'rbf', gamma = 'scale')\n",
    "model = obj.fit(X_train, y_train)\n",
    "\n",
    "# obj1 = SVC(C = 1.0, kernel = 'linear', gamma = 'scale')\n",
    "# model1 = obj1.fit(X_train, y_train)\n",
    "\n",
    "# obj2 = SVC(C = 1.0, kernel = 'poly', gamma = 'scale')\n",
    "# model2 = obj1.fit(X_train, y_train)\n",
    "\n",
    "\n",
    "# obj3 = SVC(C = 1.0, kernel = 'sigmoid', gamma = 'scale')\n",
    "# model3 = obj1.fit(X_train, y_train)\n",
    "\n",
    "# obj4 = SVC(C = 1.0, kernel = 'precomputed', gamma = 'scale')\n",
    "# model4 = obj1.fit(X_train, y_train)"
   ]
  },
  {
   "cell_type": "code",
   "execution_count": 15,
   "metadata": {},
   "outputs": [
    {
     "name": "stdout",
     "output_type": "stream",
     "text": [
      "accuracy= 0.5714285714285714\n"
     ]
    },
    {
     "ename": "NameError",
     "evalue": "name 'model1' is not defined",
     "output_type": "error",
     "traceback": [
      "\u001b[0;31m---------------------------------------------------------------------------\u001b[0m",
      "\u001b[0;31mNameError\u001b[0m                                 Traceback (most recent call last)",
      "Cell \u001b[0;32mIn[15], line 6\u001b[0m\n\u001b[1;32m      3\u001b[0m acc \u001b[38;5;241m=\u001b[39m accuracy_score(y_test, y_pred)\n\u001b[1;32m      4\u001b[0m \u001b[38;5;28mprint\u001b[39m(\u001b[38;5;124m'\u001b[39m\u001b[38;5;124maccuracy=\u001b[39m\u001b[38;5;124m'\u001b[39m, acc)\n\u001b[0;32m----> 6\u001b[0m y_pred \u001b[38;5;241m=\u001b[39m \u001b[43mmodel1\u001b[49m\u001b[38;5;241m.\u001b[39mpredict(X \u001b[38;5;241m=\u001b[39m X_test)\n\u001b[1;32m      7\u001b[0m acc \u001b[38;5;241m=\u001b[39m accuracy_score(y_test, y_pred)\n\u001b[1;32m      8\u001b[0m \u001b[38;5;28mprint\u001b[39m(\u001b[38;5;124m'\u001b[39m\u001b[38;5;124maccuracy=\u001b[39m\u001b[38;5;124m'\u001b[39m, acc)\n",
      "\u001b[0;31mNameError\u001b[0m: name 'model1' is not defined"
     ]
    }
   ],
   "source": [
    "#4. model evaluation\n",
    "y_pred = model.predict(X = X_test)\n",
    "acc = accuracy_score(y_test, y_pred)\n",
    "print('accuracy=', acc)\n",
    "\n",
    "y_pred = model1.predict(X = X_test)\n",
    "acc = accuracy_score(y_test, y_pred)\n",
    "print('accuracy=', acc)\n",
    "\n",
    "y_pred = model2.predict(X = X_test)\n",
    "acc = accuracy_score(y_test, y_pred)\n",
    "print('accuracy=', acc)\n",
    "\n",
    "y_pred = model3.predict(X = X_test)\n",
    "acc = accuracy_score(y_test, y_pred)\n",
    "print('accuracy=', acc)\n",
    "\n",
    "y_pred = model4.predict(X = X_test)\n",
    "acc = accuracy_score(y_test, y_pred)\n",
    "print('accuracy=', acc)"
   ]
  },
  {
   "cell_type": "code",
   "execution_count": null,
   "metadata": {},
   "outputs": [],
   "source": [
    "#5. Grid Search\n",
    "from sklearn.model_selection import GridSearchCV\n",
    "\n",
    "params = {'kernel': ['rbf', 'linear', 'poly','sigmoid'],\n",
    "         'C': [0.01, 0.1, 1.0, 10.0, 100.0],\n",
    "         'gamma':['scale', 'auto']} \n",
    "\n",
    "grid_model = GridSearchCV(model, param_grid = params, \n",
    "                         scoring = 'accuracy', cv = 5, n_jobs = -1).fit(X,y)\n",
    "\n",
    "with cp.cuda.Device(0):\n",
    "    grid_search.fit(cp.asarray(train_X),cp.asarray(train_y))\n",
    "                    \n",
    "                    \n",
    "                    \n",
    "# print('best score =', grid_model.best_score_)\n",
    "# print('best parameters = ', grid_model.best_params_)"
   ]
  },
  {
   "cell_type": "code",
   "execution_count": null,
   "metadata": {},
   "outputs": [],
   "source": []
  }
 ],
 "metadata": {
  "kernelspec": {
   "display_name": "Python (bgbridge)",
   "language": "python",
   "name": "bgbridge"
  },
  "language_info": {
   "codemirror_mode": {
    "name": "ipython",
    "version": 3
   },
   "file_extension": ".py",
   "mimetype": "text/x-python",
   "name": "python",
   "nbconvert_exporter": "python",
   "pygments_lexer": "ipython3",
   "version": "3.8.16"
  }
 },
 "nbformat": 4,
 "nbformat_minor": 4
}
