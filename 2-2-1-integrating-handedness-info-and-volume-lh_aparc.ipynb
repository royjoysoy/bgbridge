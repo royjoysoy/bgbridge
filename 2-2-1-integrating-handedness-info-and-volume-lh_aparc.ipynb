{
 "cells": [
  {
   "cell_type": "code",
   "execution_count": 1,
   "metadata": {},
   "outputs": [],
   "source": [
    "import csv\n",
    "import pandas as pd\n",
    "import re"
   ]
  },
  {
   "cell_type": "code",
   "execution_count": 3,
   "metadata": {},
   "outputs": [],
   "source": [
    "%%capture\n",
    "with open('output_lh_aparc.csv','r') as csv_file:\n",
    "    csv_reader = csv.reader(csv_file)\n",
    "    for row in csv_reader:\n",
    "          print(row)\n",
    "with open('handedness.csv', 'r') as csv_file2:\n",
    "    csv_reader2 = csv.reader(csv_file2)\n",
    "    for row2 in csv_reader2:\n",
    "        print(row2)"
   ]
  },
  {
   "cell_type": "code",
   "execution_count": 5,
   "metadata": {},
   "outputs": [],
   "source": [
    "%%capture\n",
    "# output.csv: the size of a output.csv file\n",
    "df_vol_lh_aparc = pd.read_csv('output_lh_aparc.csv', header = None)\n",
    "print(f'Number of rows: {len(df_vol_lh_aparc)}')\n",
    "print(f'Number of columns: {len(df_vol_lh_aparc.columns)}')\n",
    "\n",
    "# output.csv: read the first row; subject ID\n",
    "subject_list_vol = [df_vol_lh_aparc.iloc[0][i] for i in df_vol_lh_aparc]\n",
    "print(\"this is subject_list_vol\", subject_list_vol)\n",
    "\n",
    "# handedness.csv: the size of handedness.csv file\n",
    "df_hand = pd.read_csv('handedness.csv')\n",
    "df_hand = df_hand.loc[:, ~df_hand.columns.str.startswith('Unnamed')]\n",
    "print(f'Number of rows: {len(df_hand)}')\n",
    "print(f'Number of columns: {len(df_hand.columns)}')\n",
    "\n",
    "# handedness.csv: read the first row; subject ID\n",
    "subj_id_hand = df_hand['Study_ID']\n",
    "subj_id_right_left = df_hand['Handedness']\n",
    "print(\"this is subj_id_hand\", subj_id_hand)"
   ]
  },
  {
   "cell_type": "code",
   "execution_count": 6,
   "metadata": {},
   "outputs": [],
   "source": [
    "%%capture\n",
    "subj_id_hand_index = []\n",
    "handedness_in_order = []\n",
    "error = 0\n",
    "for i in subject_list_vol:\n",
    "    a = subject_list_vol.index(i)\n",
    "    print('*'*50)\n",
    "    print(\"index of i is: \", a)\n",
    "    for ii in subj_id_hand.tolist():\n",
    "        try: \n",
    "            result = re.match(i,ii[0:8])\n",
    "            if result:\n",
    "                print(result.group())\n",
    "                index = subj_id_hand.index[subj_id_hand == ii]\n",
    "                subj_id_hand_index.append(index[0])\n",
    "                print(f\"The index = {index[0]},{a}\")\n",
    "                b = subj_id_hand.tolist().index(ii)\n",
    "                handedness = subj_id_right_left.tolist()[b]\n",
    "                print(f\"the handedness = {handedness}\")\n",
    "                handedness_in_order.append(handedness)\n",
    "                print('*'*50)\n",
    "        except Exception as e:\n",
    "            print('-' * 50)\n",
    "            error += 1\n",
    "            \n",
    "print(error)\n"
   ]
  },
  {
   "cell_type": "code",
   "execution_count": 7,
   "metadata": {},
   "outputs": [],
   "source": [
    "%%capture\n",
    "df_vol_transposed_lh_aparc = df_vol_lh_aparc.transpose()\n",
    "df_vol_transposed_lh_aparc.columns = ['Study_ID',\n",
    "                             'bankssts',\n",
    "                             'caudalanteriorcingulate',\n",
    "                             'caudalmiddlefrontal',\n",
    "                             'cuneus',\n",
    "                             'entorhinal',\n",
    "                             'fusiform',\n",
    "                             'inferiorparietal',\n",
    "                             'inferiortemporal',\n",
    "                             'isthmuscingulate',\n",
    "                             'lateraloccipital',\n",
    "                             'lateralorbitofrontal',\n",
    "                             'lingual',\n",
    "                             'medialorbitofrontal',\n",
    "                             'middletemporal',\n",
    "                             'parahippocampal',\n",
    "                             'paracentral',\n",
    "                             'parsopercularis',\n",
    "                             'parsorbitalis',\n",
    "                             'parstriangularis',\n",
    "                             'pericalcarine',\n",
    "                             'postcentral',\n",
    "                             'posteriorcingulate',\n",
    "                             'precentral',\n",
    "                             'precuneus',\n",
    "                             'rostralanteriorcingulate',\n",
    "                             'rostralmiddlefrontal',\n",
    "                             'superiorfrontal',\n",
    "                             'superiorparietal',\n",
    "                             'superiortemporal',\n",
    "                             'supramarginal',\n",
    "                             'frontalpole',\n",
    "                             'temporalpole',\n",
    "                             'transversetemporal',\n",
    "                             'insula']\n",
    "print(df_vol_transposed_lh_aparc)\n",
    "df_hand['Study_ID']=df_hand['Study_ID'].apply(lambda x: x[:8])\n",
    "#print(df_hand)"
   ]
  },
  {
   "cell_type": "code",
   "execution_count": 8,
   "metadata": {},
   "outputs": [],
   "source": [
    "%%capture\n",
    "# merge two dataframes by subject ID\n",
    "merged_df_lh_aparc = pd.merge(df_vol_transposed_lh_aparc, df_hand, on = 'Study_ID')\n",
    "print(merged_df_lh_aparc)"
   ]
  },
  {
   "cell_type": "code",
   "execution_count": 9,
   "metadata": {},
   "outputs": [],
   "source": [
    "#save results as a csv file\n",
    "merged_df_lh_aparc.to_csv('merged_lh_aparc.csv', index = False)"
   ]
  }
 ],
 "metadata": {
  "kernelspec": {
   "display_name": "Python 3 (ipykernel)",
   "language": "python",
   "name": "python3"
  },
  "language_info": {
   "codemirror_mode": {
    "name": "ipython",
    "version": 3
   },
   "file_extension": ".py",
   "mimetype": "text/x-python",
   "name": "python",
   "nbconvert_exporter": "python",
   "pygments_lexer": "ipython3",
   "version": "3.11.5"
  }
 },
 "nbformat": 4,
 "nbformat_minor": 4
}
