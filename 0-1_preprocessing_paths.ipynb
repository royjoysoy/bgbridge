{
 "cells": [
  {
   "cell_type": "code",
   "execution_count": 1,
   "id": "88b9366c",
   "metadata": {},
   "outputs": [],
   "source": [
    "#12-6-2023-Wed\n",
    "# to extract the cortical volumes from aparc.stats file\n",
    "# as a first step: I extracted the paths of subjects' aparc.stats file"
   ]
  },
  {
   "cell_type": "code",
   "execution_count": 1,
   "id": "875ad452",
   "metadata": {},
   "outputs": [
    {
     "name": "stdout",
     "output_type": "stream",
     "text": [
      "Current directory: /mnt/home/royseo/fsgroupAug11/bgbridge\n",
      "updated directory: /mnt/home/royseo\n"
     ]
    }
   ],
   "source": [
    "import pandas as pd\n",
    "import os\n",
    "current_directory = os.getcwd()\n",
    "print (\"Current directory:\", current_directory)\n",
    "new = \"~\"\n",
    "expanded_directory = os.path.expanduser(new) \n",
    "os.chdir(expanded_directory)\n",
    "updated_directory = os.getcwd()\n",
    "print (\"updated directory:\", updated_directory)\n"
   ]
  },
  {
   "cell_type": "code",
   "execution_count": 15,
   "id": "eebca1c8",
   "metadata": {
    "scrolled": true
   },
   "outputs": [],
   "source": [
    "listsubj = 'fsgroupAug11/subj'\n",
    "listsubjtoextract = [d for d in os.listdir(listsubj) if os.path.isdir(os.path.join(listsubj, d)) and d.startswith(\"sub-\")] #get a list of all files and directories starting with \"sub-\""
   ]
  },
  {
   "cell_type": "code",
   "execution_count": 16,
   "id": "bc2a8397",
   "metadata": {},
   "outputs": [],
   "source": [
    "file_paths = []\n",
    "for subj in listsubjtoextract:\n",
    "    placevolume = '/mnt/home/royseo/fsgroupAug11/subj/' + subj + '/stats/lh.aparc.stats'\n",
    "    #print(placevolume)\n",
    "    file_paths.append(placevolume)"
   ]
  },
  {
   "cell_type": "code",
   "execution_count": 19,
   "id": "4a51c4a4",
   "metadata": {},
   "outputs": [],
   "source": [
    "output_lh_aparc_path = os.path.expanduser('~/fsgroupAug11/bgbridge/lh_aparc_path.txt')\n",
    "with open(output_lh_aparc_path,'w') as file:\n",
    "    for path in file_paths:\n",
    "        file.write(path + '\\n')"
   ]
  },
  {
   "cell_type": "code",
   "execution_count": 20,
   "id": "e0e43ff6",
   "metadata": {},
   "outputs": [
    {
     "name": "stdout",
     "output_type": "stream",
     "text": [
      "the file has 440 lines.\n",
      "\n"
     ]
    }
   ],
   "source": [
    "file_path = os.path.expanduser('~/fsgroupAug11/bgbridge/lh_aparc_path.txt')\n",
    "\n",
    "try:\n",
    "    with open(file_path, 'r') as file:\n",
    "        line_count = sum(1 for line in file)\n",
    "        print(f\"the file has {line_count} lines.\")\n",
    "        preview_content = file.read()\n",
    "        print(preview_content)\n",
    "except FileNotFoundError:\n",
    "    print(f\"File not found: {file_path}\")\n",
    "except Exception as e:\n",
    "    print(f\"An error occurred: {e}\")"
   ]
  },
  {
   "cell_type": "code",
   "execution_count": 38,
   "id": "8fcd53db",
   "metadata": {},
   "outputs": [
    {
     "data": {
      "text/html": [
       "<div>\n",
       "<style scoped>\n",
       "    .dataframe tbody tr th:only-of-type {\n",
       "        vertical-align: middle;\n",
       "    }\n",
       "\n",
       "    .dataframe tbody tr th {\n",
       "        vertical-align: top;\n",
       "    }\n",
       "\n",
       "    .dataframe thead th {\n",
       "        text-align: right;\n",
       "    }\n",
       "</style>\n",
       "<table border=\"1\" class=\"dataframe\">\n",
       "  <thead>\n",
       "    <tr style=\"text-align: right;\">\n",
       "      <th></th>\n",
       "      <th># Title Segmentation Statistics</th>\n",
       "    </tr>\n",
       "  </thead>\n",
       "  <tbody>\n",
       "    <tr>\n",
       "      <th>0</th>\n",
       "      <td>#</td>\n",
       "    </tr>\n",
       "    <tr>\n",
       "      <th>1</th>\n",
       "      <td># generating_program mri_segstats</td>\n",
       "    </tr>\n",
       "    <tr>\n",
       "      <th>2</th>\n",
       "      <td># cvs_version $Id: mri_segstats.c,v 1.121 2016...</td>\n",
       "    </tr>\n",
       "    <tr>\n",
       "      <th>3</th>\n",
       "      <td># cmdline mri_segstats --seg mri/aseg.mgz --su...</td>\n",
       "    </tr>\n",
       "    <tr>\n",
       "      <th>4</th>\n",
       "      <td># sysname  Linux</td>\n",
       "    </tr>\n",
       "    <tr>\n",
       "      <th>...</th>\n",
       "      <td>...</td>\n",
       "    </tr>\n",
       "    <tr>\n",
       "      <th>119</th>\n",
       "      <td>41 251      1180     1041.3  CC_Posterior    ...</td>\n",
       "    </tr>\n",
       "    <tr>\n",
       "      <th>120</th>\n",
       "      <td>42 252       566      485.7  CC_Mid_Posterior...</td>\n",
       "    </tr>\n",
       "    <tr>\n",
       "      <th>121</th>\n",
       "      <td>43 253       554      488.3  CC_Central      ...</td>\n",
       "    </tr>\n",
       "    <tr>\n",
       "      <th>122</th>\n",
       "      <td>44 254       492      446.3  CC_Mid_Anterior ...</td>\n",
       "    </tr>\n",
       "    <tr>\n",
       "      <th>123</th>\n",
       "      <td>45 255      1050      969.4  CC_Anterior     ...</td>\n",
       "    </tr>\n",
       "  </tbody>\n",
       "</table>\n",
       "<p>124 rows × 1 columns</p>\n",
       "</div>"
      ],
      "text/plain": [
       "                      # Title Segmentation Statistics \n",
       "0                                                   # \n",
       "1                    # generating_program mri_segstats\n",
       "2    # cvs_version $Id: mri_segstats.c,v 1.121 2016...\n",
       "3    # cmdline mri_segstats --seg mri/aseg.mgz --su...\n",
       "4                                     # sysname  Linux\n",
       "..                                                 ...\n",
       "119   41 251      1180     1041.3  CC_Posterior    ...\n",
       "120   42 252       566      485.7  CC_Mid_Posterior...\n",
       "121   43 253       554      488.3  CC_Central      ...\n",
       "122   44 254       492      446.3  CC_Mid_Anterior ...\n",
       "123   45 255      1050      969.4  CC_Anterior     ...\n",
       "\n",
       "[124 rows x 1 columns]"
      ]
     },
     "metadata": {},
     "output_type": "display_data"
    }
   ],
   "source": []
  },
  {
   "cell_type": "code",
   "execution_count": null,
   "id": "3b820700",
   "metadata": {},
   "outputs": [],
   "source": []
  }
 ],
 "metadata": {
  "kernelspec": {
   "display_name": "Python (bgbridge)",
   "language": "python",
   "name": "bgbridge"
  },
  "language_info": {
   "codemirror_mode": {
    "name": "ipython",
    "version": 3
   },
   "file_extension": ".py",
   "mimetype": "text/x-python",
   "name": "python",
   "nbconvert_exporter": "python",
   "pygments_lexer": "ipython3",
   "version": "3.8.16"
  }
 },
 "nbformat": 4,
 "nbformat_minor": 5
}
