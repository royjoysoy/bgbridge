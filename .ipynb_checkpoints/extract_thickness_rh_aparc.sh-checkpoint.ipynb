{
 "cells": [
  {
   "cell_type": "code",
   "execution_count": null,
   "id": "61ce4010",
   "metadata": {},
   "outputs": [],
   "source": [
    "#!/bin/bash\n",
    "\n",
    "rm temp_rh_aparc.txt\n",
    "rm output_rh_aparc.txt\n",
    "file_list=($(cat rh_aparc_path.txt)) \n",
    "\n",
    "\n",
    "touch output_rh_aparc.txt\n",
    "for subj in \"${file_list[@]}\"\n",
    "do\n",
    "\tvolume=$(grep -v \"^#\" $subj | awk '{print $4}')\n",
    "\t#echo -e \"${subj:38:47}\\n$volume\" > temp_lh_aparc.txt\n",
    "    echo -e \"${subj#*sub-}\\n$volume\" | cut -d/ -f1 > temp_rh_aparc.txt\n",
    "\tpaste temp_rh_aparc.txt output_rh_aparc.txt > pasted_rh_aparc.txt\n",
    "\tmv pasted_rh_aparc.txt output_rh_aparc.txt\n",
    " \t#echo -e \"${subj:5:7}\\n$volume\" > temp.csv\n",
    "\t\n",
    "done\n"
   ]
  }
 ],
 "metadata": {
  "kernelspec": {
   "display_name": "Python (bgbridge)",
   "language": "python",
   "name": "bgbridge"
  },
  "language_info": {
   "codemirror_mode": {
    "name": "ipython",
    "version": 3
   },
   "file_extension": ".py",
   "mimetype": "text/x-python",
   "name": "python",
   "nbconvert_exporter": "python",
   "pygments_lexer": "ipython3",
   "version": "3.8.16"
  }
 },
 "nbformat": 4,
 "nbformat_minor": 5
}
