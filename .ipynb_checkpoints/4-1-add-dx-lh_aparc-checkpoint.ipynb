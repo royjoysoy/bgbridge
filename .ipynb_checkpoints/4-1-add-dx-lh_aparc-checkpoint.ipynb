{
 "cells": [
  {
   "cell_type": "code",
   "execution_count": 1,
   "metadata": {},
   "outputs": [],
   "source": [
    "# 4-1-add-dx.ipynb was modified on 4-24-2024 for lh_aparc file"
   ]
  },
  {
   "cell_type": "code",
   "execution_count": 1,
   "metadata": {},
   "outputs": [],
   "source": [
    "import csv\n",
    "import numpy as np\n",
    "import pandas as pd"
   ]
  },
  {
   "cell_type": "code",
   "execution_count": 2,
   "metadata": {},
   "outputs": [
    {
     "name": "stdout",
     "output_type": "stream",
     "text": [
      "(391, 45)\n",
      "   Study_ID   Age   Edu             NPT_date  FAS_total_raw  FAS_total_T  \\\n",
      "0  880e4a2d  89.0  15.0  2018-07-25 00:00:00           22.0         35.0   \n",
      "1  84dd85aa  69.0  16.0  2018-03-26 00:00:00           31.0         41.0   \n",
      "2  84dd85aa  69.0  16.0  2018-03-26 00:00:00           31.0         41.0   \n",
      "3  84dd85aa  69.0  16.0  2018-03-26 00:00:00           31.0         41.0   \n",
      "4  84dd85aa  69.0  16.0  2018-03-26 00:00:00           31.0         41.0   \n",
      "\n",
      "   Animals_raw  Animals_T  BNT_totalwstim_raw  BNT_totalwstim_T  ...  \\\n",
      "0         15.0       46.0                39.0              35.0  ...   \n",
      "1         16.0       42.0                59.0              65.0  ...   \n",
      "2         16.0       42.0                59.0              65.0  ...   \n",
      "3         16.0       42.0                59.0              65.0  ...   \n",
      "4         16.0       42.0                59.0              65.0  ...   \n",
      "\n",
      "   rostralmiddlefrontal  superiorfrontal  superiorparietal  superiortemporal  \\\n",
      "0               10762.0          18475.0           12136.0              8383   \n",
      "1               15141.0          21207.0           10916.0             11593   \n",
      "2               15141.0          21207.0           10916.0             11593   \n",
      "3               15141.0          21207.0           10916.0             11593   \n",
      "4               15141.0          21207.0           10916.0             11593   \n",
      "\n",
      "   supramarginal  frontalpole  temporalpole  transversetemporal  insula  \\\n",
      "0         9468.0        859.0   2252.475703               948.0  6460.0   \n",
      "1        11167.0       1094.0   2401.000000              1274.0  6629.0   \n",
      "2        11167.0       1094.0   2401.000000              1274.0  6629.0   \n",
      "3        11167.0       1094.0   2401.000000              1274.0  6629.0   \n",
      "4        11167.0       1094.0   2401.000000              1274.0  6629.0   \n",
      "\n",
      "   Handedness  \n",
      "0         1.0  \n",
      "1         1.0  \n",
      "2         1.0  \n",
      "3         1.0  \n",
      "4         1.0  \n",
      "\n",
      "[5 rows x 45 columns]\n",
      "(445, 7)\n",
      "         V1                            Subject_ID  \\\n",
      "0  H2376119  00667fc3-1cde-11de-beb9-001f2968849c   \n",
      "1  H3705763  00798ad4-1b47-11de-beb9-001f2968849c   \n",
      "2  H4159319  01656450-5c1d-4e90-bd46-e812331abafd   \n",
      "3  H4184787  017c5114-1b3e-11de-beb9-001f2968849c   \n",
      "4  H4095956  01869558-eced-440c-ae6e-a3fae6fefed1   \n",
      "\n",
      "  patientlist_ethnicbackground_v2_v2 patientlist_ethnicgroup_v2_v2  \\\n",
      "0                              Asian        Not Hispanic or Latino   \n",
      "1                              White        Not Hispanic or Latino   \n",
      "2             Unavailable or Unknown        Unavailable or Unknown   \n",
      "3                              White        Not Hispanic or Latino   \n",
      "4                              White        Not Hispanic or Latino   \n",
      "\n",
      "   age_at_onset_v2_v2  syndrome_v2_v2  syndromeseverityconfidence_v2_v2  \n",
      "0              2007.0               3                               1.0  \n",
      "1              2012.0               3                               1.0  \n",
      "2              2015.0               1                               1.0  \n",
      "3              2014.0               1                               1.0  \n",
      "4              2010.0               3                               1.0  \n"
     ]
    }
   ],
   "source": [
    "#%%capture\n",
    "df0 = pd.read_csv('~/fsgroupAug11/bgbridge/2-4-outliersbye-lh_aparc.csv')\n",
    "print(df0.shape)\n",
    "print(df0.head())\n",
    "\n",
    "df1 = pd.read_csv('~/fsgroupAug11/bgbridge/dx-syndrome.csv')\n",
    "print(df1.shape)\n",
    "print(df1.head())"
   ]
  },
  {
   "cell_type": "code",
   "execution_count": 4,
   "metadata": {},
   "outputs": [
    {
     "name": "stdout",
     "output_type": "stream",
     "text": [
      "['V1', 'Subject_ID', 'patientlist_ethnicbackground_v2_v2', 'patientlist_ethnicgroup_v2_v2', 'age_at_onset_v2_v2', 'syndrome_v2_v2', 'syndromeseverityconfidence_v2_v2']\n",
      "0      3\n",
      "1      3\n",
      "2      1\n",
      "3      1\n",
      "4      3\n",
      "      ..\n",
      "440    1\n",
      "441    2\n",
      "442    1\n",
      "443    3\n",
      "444    1\n",
      "Name: syndrome_v2_v2, Length: 445, dtype: int64\n",
      "\n",
      "dx_counts:  syndrome_v2_v2\n",
      "1    202\n",
      "2    166\n",
      "3     72\n",
      "4      5\n",
      "Name: count, dtype: int64 \n"
     ]
    }
   ],
   "source": [
    "names = df1.columns.tolist()\n",
    "print(names)\n",
    "print(df1['syndrome_v2_v2'])\n",
    "dx_counts = df1['syndrome_v2_v2'].value_counts()\n",
    "print(f\"\\ndx_counts:  {dx_counts} \")\n",
    "# 1 Mild Cognitive Impairment #202\n",
    "# 2 Dementia #162\n",
    "# 3 Subjective Memory Complaint/Normal Cognition #72\n",
    "# 4 Unknown - defer to record #5"
   ]
  },
  {
   "cell_type": "code",
   "execution_count": 5,
   "metadata": {},
   "outputs": [
    {
     "name": "stdout",
     "output_type": "stream",
     "text": [
      "0      00667fc3\n",
      "1      00798ad4\n",
      "2      01656450\n",
      "3      017c5114\n",
      "4      01869558\n",
      "         ...   \n",
      "440    fed3cbbb\n",
      "441    ff0278cb\n",
      "442    ff312c7c\n",
      "443    ffec7957\n",
      "444    fff08c40\n",
      "Name: Study_ID, Length: 445, dtype: object\n",
      "           V1  Study_ID patientlist_ethnicbackground_v2_v2  \\\n",
      "0    H2376119  00667fc3                              Asian   \n",
      "1    H3705763  00798ad4                              White   \n",
      "2    H4184787  017c5114                              White   \n",
      "3    H4014679  019d2f13             Unavailable or Unknown   \n",
      "4    H2499034  02ca2e65                              White   \n",
      "..        ...       ...                                ...   \n",
      "386  H3349247  feb20c60                              White   \n",
      "387  H4238394  fed3cbbb                              White   \n",
      "388  H2061305  ff312c7c                              White   \n",
      "389  H3914361  ffec7957                              White   \n",
      "390  H2554245  fff08c40                              White   \n",
      "\n",
      "    patientlist_ethnicgroup_v2_v2  age_at_onset_v2_v2  syndrome_v2_v2  \\\n",
      "0          Not Hispanic or Latino              2007.0               3   \n",
      "1          Not Hispanic or Latino              2012.0               3   \n",
      "2          Not Hispanic or Latino              2014.0               1   \n",
      "3          Unavailable or Unknown              2009.0               1   \n",
      "4          Not Hispanic or Latino              2012.0               2   \n",
      "..                            ...                 ...             ...   \n",
      "386        Not Hispanic or Latino              2013.0               2   \n",
      "387        Not Hispanic or Latino              2017.0               1   \n",
      "388        Not Hispanic or Latino              2011.0               1   \n",
      "389        Not Hispanic or Latino              2011.0               3   \n",
      "390        Not Hispanic or Latino              2013.0               1   \n",
      "\n",
      "     syndromeseverityconfidence_v2_v2   Age   Edu             NPT_date  ...  \\\n",
      "0                                 1.0  75.0  18.0           11/24/2014  ...   \n",
      "1                                 1.0  65.0  18.0            3/25/2015  ...   \n",
      "2                                 1.0  71.0  15.0  2018-01-25 00:00:00  ...   \n",
      "3                                 2.0  70.0  14.0  2017-01-12 00:00:00  ...   \n",
      "4                                 1.0  55.0  16.0           10/21/2014  ...   \n",
      "..                                ...   ...   ...                  ...  ...   \n",
      "386                               1.0  77.0  18.0  2017-04-06 00:00:00  ...   \n",
      "387                               1.0  57.0  12.0  2018-10-30 00:00:00  ...   \n",
      "388                               1.0  82.0  12.0            8/11/2014  ...   \n",
      "389                               1.0  68.0  16.0  2016-12-27 00:00:00  ...   \n",
      "390                               2.0  65.0  12.0  2016-10-05 00:00:00  ...   \n",
      "\n",
      "     rostralmiddlefrontal  superiorfrontal  superiorparietal  \\\n",
      "0                 11327.0          16781.0            9023.0   \n",
      "1                 13343.0          19971.0           11902.0   \n",
      "2                 11414.0          17437.0            9919.0   \n",
      "3                 13952.0          19700.0           13405.0   \n",
      "4                 12024.0          16900.0            9948.0   \n",
      "..                    ...              ...               ...   \n",
      "386               14248.0          18774.0           13139.0   \n",
      "387               16156.0          21067.0           10514.0   \n",
      "388               10847.0          15350.0           12270.0   \n",
      "389               11952.0          17403.0           10342.0   \n",
      "390               11610.0          17444.0           12864.0   \n",
      "\n",
      "     superiortemporal  supramarginal  frontalpole  temporalpole  \\\n",
      "0                8831         8097.0        823.0        2310.0   \n",
      "1               10468         9999.0        902.0        2444.0   \n",
      "2                9082         7642.0        993.0        2321.0   \n",
      "3               12498        10303.0        889.0        2082.0   \n",
      "4               10265         6880.0        953.0        2197.0   \n",
      "..                ...            ...          ...           ...   \n",
      "386             10394         9795.0        732.0        2419.0   \n",
      "387             11239         9950.0        850.0        2083.0   \n",
      "388              9855        10826.0        636.0        2133.0   \n",
      "389             10701        10621.0       1235.0        2319.0   \n",
      "390             10008         9938.0        852.0        2325.0   \n",
      "\n",
      "     transversetemporal  insula  Handedness  \n",
      "0                 889.0  6331.0         1.0  \n",
      "1                1524.0  6227.0         1.0  \n",
      "2                 744.0  5520.0         1.0  \n",
      "3                1272.0  6954.0         1.0  \n",
      "4                1140.0  6878.0         1.0  \n",
      "..                  ...     ...         ...  \n",
      "386              1111.0  6967.0         1.0  \n",
      "387              1520.0  7628.0         1.0  \n",
      "388               959.0  6339.0         1.0  \n",
      "389               895.0  6366.0         1.0  \n",
      "390              1021.0  6084.0         1.0  \n",
      "\n",
      "[391 rows x 51 columns]\n"
     ]
    }
   ],
   "source": [
    "### add dx to the cleaned.csv\n",
    "df1 = df1.rename(columns = {'Subject_ID': 'Study_ID'})\n",
    "#print(df1.head())\n",
    "df1['Study_ID'] = df1['Study_ID'].str.slice(stop = 8)\n",
    "print(df1['Study_ID'])\n",
    "\n",
    "data = pd.merge(df1, df0, on = 'Study_ID')\n",
    "print(data)"
   ]
  },
  {
   "cell_type": "code",
   "execution_count": 6,
   "metadata": {},
   "outputs": [],
   "source": [
    "data.to_csv('4-1-add-dx-lh_aparc.csv', index = False)"
   ]
  },
  {
   "cell_type": "code",
   "execution_count": 7,
   "metadata": {},
   "outputs": [
    {
     "data": {
      "text/plain": [
       "51"
      ]
     },
     "execution_count": 7,
     "metadata": {},
     "output_type": "execute_result"
    }
   ],
   "source": [
    "add_dx_lh_aparc= pd.read_csv('4-1-add-dx-lh_aparc.csv')\n",
    "add_dx_lh_aparc.columns\n",
    "add_dx_lh_aparc.columns.shape[0] # 51 columns"
   ]
  },
  {
   "cell_type": "code",
   "execution_count": 8,
   "metadata": {},
   "outputs": [
    {
     "data": {
      "text/plain": [
       "Index(['V1', 'Study_ID', 'patientlist_ethnicbackground_v2_v2',\n",
       "       'patientlist_ethnicgroup_v2_v2', 'age_at_onset_v2_v2', 'syndrome_v2_v2',\n",
       "       'syndromeseverityconfidence_v2_v2', 'Age', 'Edu', 'NPT_date',\n",
       "       'FAS_total_raw', 'FAS_total_T', 'Animals_raw', 'Animals_T',\n",
       "       'BNT_totalwstim_raw', 'BNT_totalwstim_T', 'bankssts',\n",
       "       'caudalanteriorcingulate', 'caudalmiddlefrontal', 'cuneus',\n",
       "       'entorhinal', 'fusiform', 'inferiorparietal', 'inferiortemporal',\n",
       "       'isthmuscingulate', 'lateraloccipital', 'lateralorbitofrontal',\n",
       "       'lingual', 'medialorbitofrontal', 'middletemporal', 'parahippocampal',\n",
       "       'paracentral', 'parsopercularis', 'parsorbitalis', 'parstriangularis',\n",
       "       'pericalcarine', 'postcentral', 'posteriorcingulate', 'precentral',\n",
       "       'precuneus', 'rostralanteriorcingulate', 'rostralmiddlefrontal',\n",
       "       'superiorfrontal', 'superiorparietal', 'superiortemporal',\n",
       "       'supramarginal', 'frontalpole', 'temporalpole', 'transversetemporal',\n",
       "       'insula', 'Handedness'],\n",
       "      dtype='object')"
      ]
     },
     "execution_count": 8,
     "metadata": {},
     "output_type": "execute_result"
    }
   ],
   "source": [
    "add_dx_lh_aparc.columns"
   ]
  },
  {
   "cell_type": "code",
   "execution_count": 9,
   "metadata": {},
   "outputs": [
    {
     "name": "stdout",
     "output_type": "stream",
     "text": [
      "70.81025641025641\n",
      "1947.0271125908387\n"
     ]
    }
   ],
   "source": [
    "# sanity check\n",
    "print(add_dx_lh_aparc['Age'].mean()) # 70.81025641025641\n",
    "print(add_dx_lh_aparc['bankssts'].mean()) # 1947.0271125908387"
   ]
  },
  {
   "cell_type": "code",
   "execution_count": null,
   "metadata": {},
   "outputs": [],
   "source": []
  }
 ],
 "metadata": {
  "kernelspec": {
   "display_name": "Python 3 (ipykernel)",
   "language": "python",
   "name": "python3"
  },
  "language_info": {
   "codemirror_mode": {
    "name": "ipython",
    "version": 3
   },
   "file_extension": ".py",
   "mimetype": "text/x-python",
   "name": "python",
   "nbconvert_exporter": "python",
   "pygments_lexer": "ipython3",
   "version": "3.11.5"
  }
 },
 "nbformat": 4,
 "nbformat_minor": 4
}
