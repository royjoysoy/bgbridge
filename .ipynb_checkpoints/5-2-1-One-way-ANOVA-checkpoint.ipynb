{
 "cells": [
  {
   "cell_type": "code",
   "execution_count": 1,
   "metadata": {},
   "outputs": [],
   "source": [
    "import pandas as pd\n",
    "from scipy.stats import f_oneway\n",
    "from statsmodels.stats.multicomp import pairwise_tukeyhsd"
   ]
  },
  {
   "cell_type": "code",
   "execution_count": 2,
   "metadata": {},
   "outputs": [
    {
     "name": "stdout",
     "output_type": "stream",
     "text": [
      "['V1', 'Study_ID', 'patientlist_ethnicbackground_v2_v2', 'patientlist_ethnicgroup_v2_v2', 'age_at_onset_v2_v2', 'syndrome_v2_v2', 'syndromeseverityconfidence_v2_v2', 'Unnamed: 0', 'Unnamed: 1', 'Age', 'Edu', 'NPT_date', 'TOPF_raw', 'TOPF_Actual_SS', 'TOPF_Pred_SS', 'WTAR_raw', 'WTAR_SS', 'eFSIQ', 'WRAT4_Read_raw', 'WRAT4_Read_SS', 'MMSE_Tot', 'MoCA_Tot', 'MoCA_MIS', 'WAIS4_Sim_raw', 'WAIS4_Sim_ss', 'WAIS4_BD_raw', 'WAIS4_BD_ss', 'WAIS4_MR_raw', 'WAIS4_MR_ss', 'WAIS4_DS_raw', 'WAIS4_DS_ss', 'WAIS4_Coding_raw', 'WAIS4_Coding_ss', 'WAIS4_DSfwd_raw', 'WAIS4_DSfwd_span', 'WAIS4_DSbwd_raw', 'WAIS4_DSbwd_span', 'WAIS4_Dsseq_raw', 'WAIS4_Dsseq_span', 'WAIS4_Symb_raw', 'WAIS4_Symb_ss', 'WAIS4_Voc_raw', 'WAIS4_Voc_ss', 'WAIS4_Arith_raw', 'WAIS4_Arith_ss', 'WAIS4_VP_raw', 'WAIS4_VP_ss', 'WAIS4_Info_raw', 'WAIS4_Info_ss', 'WAIS4_FSIQ', 'WAIS4_VCI', 'WAIS4_PRI', 'WAIS4_WMI', 'WAIS4_PSI', 'WMS4adult_LMI_raw', 'WMS4adult_LMI_ss', 'WMS4adult_LMII_raw', 'WMS4adult_LMII_ss', 'WMS4adult_VRI_raw', 'WMS4adult_VRI_ss', 'WMS4adult_VRII_raw', 'WMS4adult_VRII_ss', 'WMS4adult_LMIIrecog_raw', 'WMS4adult_LMIIrecog_percent', 'WMS4adult_VRIIrecog_raw', 'WMS4adult_VRIIrecog_percent', 'WMS4adult_VRIIcopy_raw', 'WMS4adult_VRIIcopy_percent', 'WMS4adult_VPI_raw', 'WMS4adult_VPI_ss', 'WMS4adult_VPII_raw', 'WMS4adult_VPII_ss', 'WMS4adult_VPIIrecog_raw', 'WMS4adult_VPIIrecog_percent', 'WMS4oldadult_LMI_raw', 'WMS4oldadult_LMI_ss', 'WMS4oldadult_LMII_raw', 'WMS4oldadult_LMII_ss', 'WMS4oldadult_VRI_raw', 'WMS4oldadult_VRI_ss', 'WMS4oldadult_VRII_raw', 'WMS4oldadult_VRII_ss', 'WMS4oldadult_LMIIrecog_raw', 'WMS4oldadult_LMIIrecog_percent', 'WMS4oldadult_VRIIrecog_raw', 'WMS4oldadult_VRIIrecog_percent', 'WMS4oldadult_VRIIcopy_raw', 'WMS4oldadult_VRIIcopy_percent', 'WMS4oldadult_VPI_raw', 'WMS4oldadult_VPI_ss', 'WMS4oldadult_VPII_raw', 'WMS4oldadult_VPII_ss', 'WMS4oldadult_VPIIrecog_raw', 'WMS4oldadult_VPIIrecog_percent', 'CVLT2_T1_raw', 'CVLT2_T1_z', 'CVLT2_T2_raw', 'CVLT2_T2_z', 'CVLT2_T3_raw', 'CVLT2_T3_z', 'CVLT2_T4_raw', 'CVLT2_T4_z', 'CVLT2_T5_raw', 'CVLT2_T5_z (RS: Standard Score)', 'CVLT2_T1T5tot_raw', 'CVLT2_T1T5tot_z(RS: Tscore)', 'CVLT2_ListB_raw', 'CVLT2_ListB_z(RS: Standard Score)', 'CVLT2_SDFR_raw', 'CVLT2_SDFR_z(RS: Standard Score)', 'CVLT2_SDCR_raw', 'CVLT2_SDCR_z(RS: Standard Score)', 'CVLT2_LDFR_raw', 'CVLT2_LDFR_z(RS: Standard Score)', 'CVLT2_LDCR_raw', 'CVLT2_LDCR_z(RS: Standard Score)', 'CVLT2_RecHits_raw', 'CVLT2_RecHits_z', 'CVLT2_RecFP_raw', 'CVLT2_RecFP_z', 'CVLT2_FCrecog_raw', 'CVLT2_FCrecog_percent', 'CVLT3_T1_raw', 'CVLT3_T1_ss', 'CVLT3_T2_raw', 'CVLT3_T2_ss', 'CVLT3_T3_raw', 'CVLT3_T3_ss', 'CVLT3_T4_raw', 'CVLT3_T4_ss', 'CVLT3_T5_raw', 'CVLT3_T5_ss', 'CVLT3_T1T5total_raw', 'CVLT3_T1T5tot_raw(sumofss)', 'CVLT3_T1T5tot_SS(index)', 'CVLT3_ListB_raw', 'CVLT3_ListB_ss', 'CVLT3_SDFR_raw', 'CVLT3_SDFR_ss', 'CVLT3_SDCR_raw', 'CVLT3_SDCR_ss', 'CVLT3_LDFR_raw', 'CVLT3_LDFR_ss', 'CVLT3_LDCR_raw', 'CVLT3_LDCR_ss', 'CVLT3_RecHits_raw', 'CVLT3_RecHits_ss', 'CVLT3_RecFP_raw', 'CVLT3_RecFP_ss', 'CVLT3_FCrecog_raw', 'CVLT3_FCrecog_percent', 'CVLT2_SF_T1_raw', 'CVLT2_SF_T1_z', 'CVLT2_SF_T2_raw', 'CVLT2_SF_T2_z', 'CVLT2_SF_T3_raw', 'CVLT2_SF_T3_z', 'CVLT2_SF_T4_raw', 'CVLT2_SF_T4_z', 'CVLT2_SF_T1T4total_raw', 'CVLT2_SF_T1T4tot_raw', 'CVLT2_SF_T1T4tot_T', 'CVLT2_SF_SDFR_raw', 'CVLT2_SF_SDFR_z', 'CVLT2_SF_LDFR_raw', 'CVLT2_SF_LDFR_z', 'CVLT2_SF_LDCR_raw', 'CVLT2_SF_LDCR_z', 'CVLT2_SF_RecHits_raw', 'CVLT2_SF_RecHits_z', 'CVLT2_SF_RecFP_raw', 'CVLT2_SF_RecFP_z', 'CVLT2_SF_FCrecog_raw', 'CVLT2_SF_FCrecog_percent', 'CVLT3_BF_T1_raw', 'CVLT3_BF_T1_ss', 'CVLT3_BF_T2_raw', 'CVLT3_BF_T2_ss', 'CVLT3_BF_T3_raw', 'CVLT3_BF_T3_ss', 'CVLT3_BF_T4_raw', 'CVLT3_BF_T4_ss', 'CVLT3_BF_SDFR_raw', 'CVLT3_BF_SDFR_ss', 'CVLT3_BF_LDFR_raw', 'CVLT3_BF_LDFR_ss', 'CVLT3_BF_LDCR_raw', 'CVLT3_BF_LDCR_ss', 'CVLT3_BF_RecHits_raw', 'CVLT3_BF_RecHits_ss', 'CVLT3_BF_RecFP_raw', 'CVLT3_BF_RecFP_ss', 'CVLT3_BF_FCrecog_raw', 'CVLT3_BF_FCrecog_percent', 'CVLT3_BF_T1T4tot_raw', 'CVLT3_BF_T1T4tot_ss', 'RAVLT_T1_raw', 'RAVLT_T1_z', 'RAVLT_T2_raw', 'RAVLT_T2_z', 'RAVLT_T3_raw', 'RAVLT_T3_z', 'RAVLT_T4_raw', 'RAVLT_T4_z', 'RAVLT_T5_raw', 'RAVLT_T5_T', 'RAVLT_T1T5tot_raw', 'RAVLT_T1T5tot_z', 'RAVLT_ListB_raw', 'RAVLT_ListB_z', 'RAVLT_SDFR_raw(immediate)', 'RAVLT_SDFR_z', 'RAVLT_LDFR_raw(delay)', 'RAVLT_LDFR_z', 'RAVLT_Recog_raw(recognition)', 'RAVLT_Recog_z', 'RAVLT_RecFP_raw(look at the next page)', \"RAVLT_RecFP_z(we don't have it)\", \"RAVLT_Fcrecog_raw(we don't have it)\", \"RAVLT_Fcrecog_z(doesn't exist)\", 'HVLT_T1T3tot_raw', 'HVLT_T1T3tot_T', 'HVLT_Delay_raw', 'HVLT_Delay_T', 'HVLT_PercentRet_raw', 'HVLT_PercentRet_T', 'HVLT_RecogDiscrim_raw', 'HVLT_RecogDiscrim_T', 'HVLT_Hits_raw', 'HVLT_FP_raw', 'BVMT_T1_raw', 'BVMT_T1_T', 'BVMT_T2_raw', 'BVMT_T2_T', 'BVMT_T3_raw', 'BVMT_T3_T', 'BVMT_T1T3tot_raw', 'BVMT_T1T3tot_T', 'BVMT_Delay_raw', 'BVMT_Delay_T', 'BVMT_PercentRet_raw', 'BVMT_PercentRet_T', 'BVMT_Hits_raw', 'BVMT_FP_raw', 'BVMT_RecogDiscrim_raw', 'BVMT_RecogDiscrim_percent', 'BVMT_copy', 'RCFT_Copy_raw', 'RCFT_Copy_percentile', 'RCFT_Immed_raw', 'RCFT_Immed_T', 'RCFT_Delay_raw', 'RCFT_Delay_T', 'RCFT_Recog_raw', 'RCFT_Recog', 'FAS_total_raw', 'FAS_total_T', 'Animals_raw', 'Animals_T', 'DKEFS_VF_Letter_raw', 'DKEFS_VF_Letter_ss', 'DKEFS_VF_Category_raw', 'DKEFS_VF_Category_ss', 'DKEFS_VF_CatSwitch_raw', 'DKEFS_VF_CatSwitch_ss', 'DKEFS_VF_SwitchAccur_raw', 'DKEFS_VF_SwitchAccur_ss', 'BNT_totalwstim_raw', 'BNT_totalwstim_T', 'BNT_MOANS', 'NAB_naming_raw', 'NAB_naming_T', 'Token_raw', 'Token_T', 'Token_MOANS', 'BDAE_CompIdeat_raw', 'BDAE_CompIdeat_T', 'JOLO_agecorrected_raw', 'JOLO_percentile', 'JOLO_MOANS', 'Benton_FacialRecog', 'Benton_FacialRecog_percent', 'Benton_VisualDiscrim', 'Benton_VisualDiscrim_percent', 'HVOT_total_raw', 'HVOT_total_percent', 'NAB_VisualDiscrim', 'TrailsA_time_raw', 'TrailsA_time_T', 'TrailsA_err', 'TrailsB_time_raw', 'TrailsB_time_T', 'TrailsB_err', 'Trail_A_MOANS', 'Trail_B_MOANS', 'Stroop_Word_raw', 'Stroop_Word_T', 'Stroop_Color_raw', 'Stroop_Color_T', 'Stroop_CW_raw', 'Stroop_CW_T', 'Stroop_Word_MOANS', 'Stroop_Color_MOANS', 'Stroop_CW_MOANS', 'DKEFS_CWI_Color_raw', 'DKEFS_CWI_Color_ss', 'DKEFS_CWI_Word_raw', 'DKEFS_CWI_Word_ss', 'DKEFS_CWI_Inhib_raw', 'DKEFS_CWI_Inhib_ss', 'DKEFS_CWI_InhibSwitch_raw', 'DKEFS_CWI_InhibSwitch_ss', 'WCST128_Categ_raw', 'WCST128_Categ_percent', 'WCST128_toterr_raw', 'WCST128_toterr_T', 'WCST128_perseverr_raw', 'WCST128_perseverr_T', 'WCST128_trialsto1st_raw', 'WCST128_trialsto1st_percent', 'WCST128_FTMS_raw', 'WCST128_FTMS_percent', 'WCST64_Categ_raw', 'WCST64_Categ_percent', 'WCST64_toterr_raw', 'WCST64_toterr_T', 'WCST64_perseverr_raw', 'WCST64_perseverr_T', 'WCST64_trialsto1st_raw', 'WCST64_trialsto1st_percent', 'WCST64_FTMS_raw', 'WCST64_FTMS_percent', 'mWCST_Categ_raw', 'mWCST_Categ_T', 'mWCST_perseverr_raw', 'mWCST_perseverr_T', 'mWCST_toterr_raw', 'mWCST_toterr_T', 'mWCST_composite_raw', 'mWCST_composite_SS', 'DKEFS_Tower_TotAchv_raw', 'DKEFS_Tower_TotAchv_ss', 'DKEFS_Tower_RuleViol_raw', 'DKEFS_Tower_RuleViol_ss', 'CategoryTest_Total_raw', 'CategoryTest_Total_T', 'CategoryTest_Err_raw', 'CategoryTest_Err_T', 'TowerLonder_Tot_raw', 'TowerLonder_Tot_T', 'SDMT_Oral_total_raw', 'SDMT_Oral_total_z', 'SDMT_Oral_err', 'SDMT_Writ_total_raw', 'SDMT_Writ_total_z', 'SDMT_Writ_err', 'Peg_DH_time_raw', 'Peg_DH_time_T', 'Peg_NDH_time_raw', 'Peg_NDH_time_T', 'Tap_DH_time_raw', 'Tap_DH_time_T', 'Tap_NDH_time_raw', 'Tap_NDH_time_T', 'GDS_total', 'GAI_total', 'BDI_total', 'BAI_total', 'PHQ9_total', 'ADL_total', 'FRSBE_before', 'FRSBE_after', 'NPIq_total_severity', 'NPIq_total_stress', 'Left-Lateral-Ventricle', 'Left-Inf-Lat-Vent', 'Left-Cerebellum-White-Matter', 'Left-Cerebellum-Cortex', 'Left-Thalamus-Proper', 'Left-Caudate', 'Left-Putamen', 'Left-Pallidum', '3rd-Ventricle', '4th-Ventricle', 'Brain-Stem', 'Left-Hippocampus', 'Left-Amygdala', 'CSF', 'Left-Accumbens-area', 'Left-VentralDC', 'Left-vessel', 'Left-choroid-plexus', 'Right-Lateral-Ventricle', 'Right-Inf-Lat-Vent', 'Right-Cerebellum-White-Matter', 'Right-Cerebellum-Cortex', 'Right-Thalamus-Proper', 'Right-Caudate', 'Right-Putamen', 'Right-Pallidum', 'Right-Hippocampus', 'Right-Amygdala', 'Right-Accumbens-area', 'Right-VentralDC', 'Right-vessel', 'Right-choroid-plexus', '5th-Ventricle', 'WM-hypointensities', 'Left-WM-hypointensities', 'Right-WM-hypointensities', 'non-WM-hypointensities', 'Left-non-WM-hypointensities', 'Right-non-WM-hypointensities', 'Optic-Chiasm', 'CC_Posterior', 'CC_Mid_Posterior', 'CC_Central', 'CC_Mid_Anterior', 'CC_Anterior', 'Handedness']\n"
     ]
    }
   ],
   "source": [
    "#%%capture\n",
    "#load the dataset\n",
    "df = pd.read_csv('data.csv')\n",
    "pd.set_option('max_columns', None) # Display the DataFrame with all columns shown\n",
    "print(list(df.columns))\n",
    "\n",
    "# 1 Mild Cognitive Impairment\n",
    "# 2 Dementia\n",
    "# 3 Subjective Memory Complaint/Normal Cognition\n",
    "# 4 Unknown - defer to record\n",
    "\n",
    "\n",
    "# MCI_df = df[df['syndrome_v2_v2'] == 1]\n",
    "# Dementia_df = df[df['syndrome_v2_v2'] == 2]\n",
    "# CN_df = df[df['syndrome_v2_v2'] == 3]\n"
   ]
  },
  {
   "cell_type": "code",
   "execution_count": 3,
   "metadata": {},
   "outputs": [],
   "source": [
    "def perform_one_way_anova(df, group_col, test_col):\n",
    "    '''\n",
    "    perfrom one-way ANOVA on multiple tests in a dataframe.\n",
    "    \n",
    "    Parameters:\n",
    "        - df (pd.DataFrame): Input dataframe\n",
    "        - group_col (str) : Column name containing the group labels\n",
    "        - test_col (str): Column name containing the test results\n",
    "        \n",
    "    Returns:\n",
    "        - f_statistic (float): F-statistic from the ANOVA\n",
    "        - p_value (float): p_value from the ANOVA\n",
    "        - posthoc_results (pd.DataFrame): Post hot test results using Tukey's HSD test if p-value < 0.05\n",
    "        \n",
    "    '''\n",
    "    df = df[df[group_col] != 4]  \n",
    "  # replace missing values in the test column with NaN\n",
    "    df[test_col] = df[test_col].replace([np.nan, np.inf, -np.inf], np.nan)\n",
    "    \n",
    "  # drop rows with missing values in the test column\n",
    "    df = df.dropna(subset = [test_col])\n",
    "\n",
    "  # extract the 'score' column\n",
    "    scores = df[test_col]\n",
    "\n",
    "  # extract the 'syndrome_v2_v2' column\n",
    "    groups = df[group_col].unique()\n",
    "  # perform one-way ANOVA\n",
    "    f_statistic, p_value = f_oneway(*[scores[df[group_col] == group] for group in groups])\n",
    " \n",
    "    \n",
    "    # perform post hoc test using Tukey's HSD test if p-value < 0.05\n",
    "    posthoc_results = None\n",
    "    if p_value < 0.05:\n",
    "        posthoc_results = pairwaise_tukeyhsd(df[test_col],df[group_col])\n",
    "        \n",
    "    return f_statistic, p_value, posthoc_results"
   ]
  },
  {
   "cell_type": "code",
   "execution_count": 4,
   "metadata": {},
   "outputs": [
    {
     "ename": "NameError",
     "evalue": "name 'np' is not defined",
     "output_type": "error",
     "traceback": [
      "\u001b[0;31m---------------------------------------------------------------------------\u001b[0m",
      "\u001b[0;31mNameError\u001b[0m                                 Traceback (most recent call last)",
      "Cell \u001b[0;32mIn[4], line 4\u001b[0m\n\u001b[1;32m      1\u001b[0m \u001b[38;5;66;03m# Animals_raw\u001b[39;00m\n\u001b[1;32m      2\u001b[0m \n\u001b[1;32m      3\u001b[0m \u001b[38;5;66;03m# perform an one-way ANOVA\u001b[39;00m\n\u001b[0;32m----> 4\u001b[0m f_statistic, p_value, posthoc_results \u001b[38;5;241m=\u001b[39m \u001b[43mperform_one_way_anova\u001b[49m\u001b[43m(\u001b[49m\u001b[43mdf\u001b[49m\u001b[43m,\u001b[49m\u001b[38;5;124;43m'\u001b[39;49m\u001b[38;5;124;43msyndrome_v2_v2\u001b[39;49m\u001b[38;5;124;43m'\u001b[39;49m\u001b[43m,\u001b[49m\u001b[43m \u001b[49m\u001b[38;5;124;43m'\u001b[39;49m\u001b[38;5;124;43mAnimals_raw\u001b[39;49m\u001b[38;5;124;43m'\u001b[39;49m\u001b[43m)\u001b[49m\n\u001b[1;32m      6\u001b[0m \u001b[38;5;66;03m# print ANOVA results\u001b[39;00m\n\u001b[1;32m      7\u001b[0m \u001b[38;5;28mprint\u001b[39m(\u001b[38;5;124m\"\u001b[39m\u001b[38;5;124mANOVA Results for Animals_raw\u001b[39m\u001b[38;5;124m\"\u001b[39m)\n",
      "Cell \u001b[0;32mIn[3], line 18\u001b[0m, in \u001b[0;36mperform_one_way_anova\u001b[0;34m(df, group_col, test_col)\u001b[0m\n\u001b[1;32m     16\u001b[0m   df \u001b[38;5;241m=\u001b[39m df[df[group_col] \u001b[38;5;241m!=\u001b[39m \u001b[38;5;241m4\u001b[39m]  \n\u001b[1;32m     17\u001b[0m \u001b[38;5;66;03m# replace missing values in the test column with NaN\u001b[39;00m\n\u001b[0;32m---> 18\u001b[0m   df[test_col] \u001b[38;5;241m=\u001b[39m df[test_col]\u001b[38;5;241m.\u001b[39mreplace([\u001b[43mnp\u001b[49m\u001b[38;5;241m.\u001b[39mnan, np\u001b[38;5;241m.\u001b[39minf, \u001b[38;5;241m-\u001b[39mnp\u001b[38;5;241m.\u001b[39minf], np\u001b[38;5;241m.\u001b[39mnan)\n\u001b[1;32m     20\u001b[0m \u001b[38;5;66;03m# drop rows with missing values in the test column\u001b[39;00m\n\u001b[1;32m     21\u001b[0m   df \u001b[38;5;241m=\u001b[39m df\u001b[38;5;241m.\u001b[39mdropna(subset \u001b[38;5;241m=\u001b[39m [test_col])\n",
      "\u001b[0;31mNameError\u001b[0m: name 'np' is not defined"
     ]
    }
   ],
   "source": [
    "# Animals_raw\n",
    "\n",
    "# perform an one-way ANOVA\n",
    "f_statistic, p_value, posthoc_results = perform_one_way_anova(df,'syndrome_v2_v2', 'Animals_raw')\n",
    "\n",
    "# print ANOVA results\n",
    "print(\"ANOVA Results for Animals_raw\")\n",
    "print(\"F-statistic:\", f_statistic)\n",
    "print(\"p-value:\", p_value)\n",
    "\n",
    "# print post hoc test results if applicable\n",
    "if posthoc_results is not None:\n",
    "    print(\"Post hoc test results:\")\n",
    "    print(posthoc_results)\n"
   ]
  },
  {
   "cell_type": "code",
   "execution_count": 38,
   "metadata": {},
   "outputs": [
    {
     "name": "stdout",
     "output_type": "stream",
     "text": [
      "ANOVA Results for FAS_total_raw\n",
      "F-statistic: 0.5629508223530136\n",
      "p-value: 0.5700143626374399\n"
     ]
    },
    {
     "name": "stderr",
     "output_type": "stream",
     "text": [
      "<ipython-input-35-48d746d16df3>:18: SettingWithCopyWarning: \n",
      "A value is trying to be set on a copy of a slice from a DataFrame.\n",
      "Try using .loc[row_indexer,col_indexer] = value instead\n",
      "\n",
      "See the caveats in the documentation: https://pandas.pydata.org/pandas-docs/stable/user_guide/indexing.html#returning-a-view-versus-a-copy\n",
      "  df[test_col] = df[test_col].replace([np.nan, np.inf, -np.inf], np.nan)\n"
     ]
    }
   ],
   "source": [
    "# FAS_total_raw  \n",
    "# perform an one-way ANOVA\n",
    "f_statistic, p_value, posthoc_results = perform_one_way_anova(df,'syndrome_v2_v2', 'FAS_total_raw')\n",
    "\n",
    "# print ANOVA results\n",
    "print(\"ANOVA Results for FAS_total_raw\")\n",
    "print(\"F-statistic:\", f_statistic)\n",
    "print(\"p-value:\", p_value)\n",
    "\n",
    "# print post hoc test results if applicable\n",
    "if posthoc_results is not None:\n",
    "    print(\"Post hoc test results:\")\n",
    "    print(posthoc_results)"
   ]
  },
  {
   "cell_type": "code",
   "execution_count": 39,
   "metadata": {},
   "outputs": [
    {
     "name": "stdout",
     "output_type": "stream",
     "text": [
      "ANOVA Results for FAS_total_raw\n",
      "F-statistic: 0.5629508223530136\n",
      "p-value: 0.5700143626374399\n"
     ]
    },
    {
     "name": "stderr",
     "output_type": "stream",
     "text": [
      "<ipython-input-35-48d746d16df3>:18: SettingWithCopyWarning: \n",
      "A value is trying to be set on a copy of a slice from a DataFrame.\n",
      "Try using .loc[row_indexer,col_indexer] = value instead\n",
      "\n",
      "See the caveats in the documentation: https://pandas.pydata.org/pandas-docs/stable/user_guide/indexing.html#returning-a-view-versus-a-copy\n",
      "  df[test_col] = df[test_col].replace([np.nan, np.inf, -np.inf], np.nan)\n"
     ]
    }
   ],
   "source": [
    "# BNT_totalwstim_raw\n",
    "# perform an one-way ANOVA\n",
    "f_statistic, p_value, posthoc_results = perform_one_way_anova(df,'syndrome_v2_v2', 'FAS_total_raw')\n",
    "\n",
    "# print ANOVA results\n",
    "print(\"ANOVA Results for FAS_total_raw\")\n",
    "print(\"F-statistic:\", f_statistic)\n",
    "print(\"p-value:\", p_value)\n",
    "\n",
    "# print post hoc test results if applicable\n",
    "if posthoc_results is not None:\n",
    "    print(\"Post hoc test results:\")\n",
    "    print(posthoc_results)"
   ]
  },
  {
   "cell_type": "code",
   "execution_count": 41,
   "metadata": {},
   "outputs": [
    {
     "name": "stdout",
     "output_type": "stream",
     "text": [
      "ANOVA Results for Left-Caduate\n",
      "F-statistic: 0.2549603246632527\n",
      "p-value: 0.7750662476202127\n"
     ]
    },
    {
     "name": "stderr",
     "output_type": "stream",
     "text": [
      "<ipython-input-35-48d746d16df3>:18: SettingWithCopyWarning: \n",
      "A value is trying to be set on a copy of a slice from a DataFrame.\n",
      "Try using .loc[row_indexer,col_indexer] = value instead\n",
      "\n",
      "See the caveats in the documentation: https://pandas.pydata.org/pandas-docs/stable/user_guide/indexing.html#returning-a-view-versus-a-copy\n",
      "  df[test_col] = df[test_col].replace([np.nan, np.inf, -np.inf], np.nan)\n"
     ]
    }
   ],
   "source": [
    "# Left Caudate\n",
    "# perform an one-way ANOVA\n",
    "f_statistic, p_value, posthoc_results = perform_one_way_anova(df,'syndrome_v2_v2', 'Left-Caudate')\n",
    "\n",
    "# print ANOVA results\n",
    "print(\"ANOVA Results for Left-Caduate\")\n",
    "print(\"F-statistic:\", f_statistic)\n",
    "print(\"p-value:\", p_value)\n",
    "\n",
    "# print post hoc test results if applicable\n",
    "if posthoc_results is not None:\n",
    "    print(\"Post hoc test results:\")\n",
    "    print(posthoc_results)"
   ]
  },
  {
   "cell_type": "code",
   "execution_count": 42,
   "metadata": {},
   "outputs": [
    {
     "name": "stdout",
     "output_type": "stream",
     "text": [
      "ANOVA Results for Left-Caduate\n",
      "F-statistic: 0.38680883783412534\n",
      "p-value: 0.6794609237646184\n"
     ]
    },
    {
     "name": "stderr",
     "output_type": "stream",
     "text": [
      "<ipython-input-35-48d746d16df3>:18: SettingWithCopyWarning: \n",
      "A value is trying to be set on a copy of a slice from a DataFrame.\n",
      "Try using .loc[row_indexer,col_indexer] = value instead\n",
      "\n",
      "See the caveats in the documentation: https://pandas.pydata.org/pandas-docs/stable/user_guide/indexing.html#returning-a-view-versus-a-copy\n",
      "  df[test_col] = df[test_col].replace([np.nan, np.inf, -np.inf], np.nan)\n"
     ]
    }
   ],
   "source": [
    "# Right Caudate\n",
    "# perform an one-way ANOVA\n",
    "f_statistic, p_value, posthoc_results = perform_one_way_anova(df,'syndrome_v2_v2', 'Right-Caudate')\n",
    "\n",
    "# print ANOVA results\n",
    "print(\"ANOVA Results for Right-Caduate\")\n",
    "print(\"F-statistic:\", f_statistic)\n",
    "print(\"p-value:\", p_value)\n",
    "\n",
    "# print post hoc test results if applicable\n",
    "if posthoc_results is not None:\n",
    "    print(\"Post hoc test results:\")\n",
    "    print(posthoc_results)"
   ]
  },
  {
   "cell_type": "code",
   "execution_count": 43,
   "metadata": {},
   "outputs": [
    {
     "name": "stdout",
     "output_type": "stream",
     "text": [
      "ANOVA Results for Left-Putamen\n",
      "F-statistic: 0.9713155038660651\n",
      "p-value: 0.379427431455273\n"
     ]
    },
    {
     "name": "stderr",
     "output_type": "stream",
     "text": [
      "<ipython-input-35-48d746d16df3>:18: SettingWithCopyWarning: \n",
      "A value is trying to be set on a copy of a slice from a DataFrame.\n",
      "Try using .loc[row_indexer,col_indexer] = value instead\n",
      "\n",
      "See the caveats in the documentation: https://pandas.pydata.org/pandas-docs/stable/user_guide/indexing.html#returning-a-view-versus-a-copy\n",
      "  df[test_col] = df[test_col].replace([np.nan, np.inf, -np.inf], np.nan)\n"
     ]
    }
   ],
   "source": [
    "# Left Putamen\n",
    "# perform an one-way ANOVA\n",
    "f_statistic, p_value, posthoc_results = perform_one_way_anova(df,'syndrome_v2_v2', 'Left-Putamen')\n",
    "\n",
    "# print ANOVA results\n",
    "print(\"ANOVA Results for Left-Putamen\")\n",
    "print(\"F-statistic:\", f_statistic)\n",
    "print(\"p-value:\", p_value)\n",
    "\n",
    "# print post hoc test results if applicable\n",
    "if posthoc_results is not None:\n",
    "    print(\"Post hoc test results:\")\n",
    "    print(posthoc_results)"
   ]
  },
  {
   "cell_type": "code",
   "execution_count": 45,
   "metadata": {},
   "outputs": [
    {
     "name": "stdout",
     "output_type": "stream",
     "text": [
      "ANOVA Results for Right-Putamen\n",
      "F-statistic: 0.2763074309447219\n",
      "p-value: 0.7587164906523742\n"
     ]
    },
    {
     "name": "stderr",
     "output_type": "stream",
     "text": [
      "<ipython-input-35-48d746d16df3>:18: SettingWithCopyWarning: \n",
      "A value is trying to be set on a copy of a slice from a DataFrame.\n",
      "Try using .loc[row_indexer,col_indexer] = value instead\n",
      "\n",
      "See the caveats in the documentation: https://pandas.pydata.org/pandas-docs/stable/user_guide/indexing.html#returning-a-view-versus-a-copy\n",
      "  df[test_col] = df[test_col].replace([np.nan, np.inf, -np.inf], np.nan)\n"
     ]
    }
   ],
   "source": [
    "# Right Putamen\n",
    "# perform an one-way ANOVA\n",
    "f_statistic, p_value, posthoc_results = perform_one_way_anova(df,'syndrome_v2_v2', 'Right-Putamen')\n",
    "\n",
    "# print ANOVA results\n",
    "print(\"ANOVA Results for Right-Putamen\")\n",
    "print(\"F-statistic:\", f_statistic)\n",
    "print(\"p-value:\", p_value)\n",
    "\n",
    "# print post hoc test results if applicable\n",
    "if posthoc_results is not None:\n",
    "    print(\"Post hoc test results:\")\n",
    "    print(posthoc_results)"
   ]
  },
  {
   "cell_type": "code",
   "execution_count": 49,
   "metadata": {},
   "outputs": [
    {
     "name": "stdout",
     "output_type": "stream",
     "text": [
      "ANOVA Results for Right-Pallidum\n",
      "F-statistic: 0.41647784613013683\n",
      "p-value: 0.6596351977918318\n"
     ]
    },
    {
     "name": "stderr",
     "output_type": "stream",
     "text": [
      "<ipython-input-48-48d746d16df3>:18: SettingWithCopyWarning: \n",
      "A value is trying to be set on a copy of a slice from a DataFrame.\n",
      "Try using .loc[row_indexer,col_indexer] = value instead\n",
      "\n",
      "See the caveats in the documentation: https://pandas.pydata.org/pandas-docs/stable/user_guide/indexing.html#returning-a-view-versus-a-copy\n",
      "  df[test_col] = df[test_col].replace([np.nan, np.inf, -np.inf], np.nan)\n"
     ]
    }
   ],
   "source": [
    "# Right-Pallidum\n",
    "# perform an one-way ANOVA\n",
    "f_statistic, p_value, posthoc_results = perform_one_way_anova(df,'syndrome_v2_v2', 'Right-Pallidum')\n",
    "\n",
    "# print ANOVA results\n",
    "print(\"ANOVA Results for Right-Pallidum\")\n",
    "print(\"F-statistic:\", f_statistic)\n",
    "print(\"p-value:\", p_value)\n",
    "\n",
    "# print post hoc test results if applicable\n",
    "if posthoc_results is not None:\n",
    "    print(\"Post hoc test results:\")\n",
    "    print(posthoc_results)"
   ]
  },
  {
   "cell_type": "code",
   "execution_count": 51,
   "metadata": {},
   "outputs": [
    {
     "name": "stdout",
     "output_type": "stream",
     "text": [
      "ANOVA Results for Left-Pallidum\n",
      "F-statistic: 0.6207819649034203\n",
      "p-value: 0.5380129207198259\n"
     ]
    },
    {
     "name": "stderr",
     "output_type": "stream",
     "text": [
      "<ipython-input-48-48d746d16df3>:18: SettingWithCopyWarning: \n",
      "A value is trying to be set on a copy of a slice from a DataFrame.\n",
      "Try using .loc[row_indexer,col_indexer] = value instead\n",
      "\n",
      "See the caveats in the documentation: https://pandas.pydata.org/pandas-docs/stable/user_guide/indexing.html#returning-a-view-versus-a-copy\n",
      "  df[test_col] = df[test_col].replace([np.nan, np.inf, -np.inf], np.nan)\n"
     ]
    }
   ],
   "source": [
    "# Left-Pallidum\n",
    "# perform an one-way ANOVA\n",
    "f_statistic, p_value, posthoc_results = perform_one_way_anova(df,'syndrome_v2_v2', 'Left-Pallidum')\n",
    "\n",
    "# print ANOVA results\n",
    "print(\"ANOVA Results for Left-Pallidum\")\n",
    "print(\"F-statistic:\", f_statistic)\n",
    "print(\"p-value:\", p_value)\n",
    "\n",
    "# print post hoc test results if applicable\n",
    "if posthoc_results is not None:\n",
    "    print(\"Post hoc test results:\")\n",
    "    print(posthoc_results)"
   ]
  },
  {
   "cell_type": "code",
   "execution_count": 52,
   "metadata": {},
   "outputs": [
    {
     "name": "stdout",
     "output_type": "stream",
     "text": [
      "ANOVA Results for Right-Accumbens-area\n",
      "F-statistic: 0.47975781090651315\n",
      "p-value: 0.6192696364734006\n"
     ]
    },
    {
     "name": "stderr",
     "output_type": "stream",
     "text": [
      "<ipython-input-48-48d746d16df3>:18: SettingWithCopyWarning: \n",
      "A value is trying to be set on a copy of a slice from a DataFrame.\n",
      "Try using .loc[row_indexer,col_indexer] = value instead\n",
      "\n",
      "See the caveats in the documentation: https://pandas.pydata.org/pandas-docs/stable/user_guide/indexing.html#returning-a-view-versus-a-copy\n",
      "  df[test_col] = df[test_col].replace([np.nan, np.inf, -np.inf], np.nan)\n"
     ]
    }
   ],
   "source": [
    "# Right-Accumbens-area\n",
    "# perform an one-way ANOVA\n",
    "f_statistic, p_value, posthoc_results = perform_one_way_anova(df,'syndrome_v2_v2', 'Right-Accumbens-area')\n",
    "\n",
    "# print ANOVA results\n",
    "print(\"ANOVA Results for Right-Accumbens-area\")\n",
    "print(\"F-statistic:\", f_statistic)\n",
    "print(\"p-value:\", p_value)\n",
    "\n",
    "# print post hoc test results if applicable\n",
    "if posthoc_results is not None:\n",
    "    print(\"Post hoc test results:\")\n",
    "    print(posthoc_results)"
   ]
  },
  {
   "cell_type": "code",
   "execution_count": 53,
   "metadata": {},
   "outputs": [
    {
     "name": "stdout",
     "output_type": "stream",
     "text": [
      "ANOVA Results for Left-Accumbens-area\n",
      "F-statistic: 1.0847539592356772\n",
      "p-value: 0.338923229607166\n"
     ]
    },
    {
     "name": "stderr",
     "output_type": "stream",
     "text": [
      "<ipython-input-48-48d746d16df3>:18: SettingWithCopyWarning: \n",
      "A value is trying to be set on a copy of a slice from a DataFrame.\n",
      "Try using .loc[row_indexer,col_indexer] = value instead\n",
      "\n",
      "See the caveats in the documentation: https://pandas.pydata.org/pandas-docs/stable/user_guide/indexing.html#returning-a-view-versus-a-copy\n",
      "  df[test_col] = df[test_col].replace([np.nan, np.inf, -np.inf], np.nan)\n"
     ]
    }
   ],
   "source": [
    "# Left-Accumbens-area\n",
    "# perform an one-way ANOVA\n",
    "f_statistic, p_value, posthoc_results = perform_one_way_anova(df,'syndrome_v2_v2', 'Left-Accumbens-area')\n",
    "\n",
    "# print ANOVA results\n",
    "print(\"ANOVA Results for Left-Accumbens-area\")\n",
    "print(\"F-statistic:\", f_statistic)\n",
    "print(\"p-value:\", p_value)\n",
    "\n",
    "# print post hoc test results if applicable\n",
    "if posthoc_results is not None:\n",
    "    print(\"Post hoc test results:\")\n",
    "    print(posthoc_results)"
   ]
  },
  {
   "cell_type": "code",
   "execution_count": 54,
   "metadata": {},
   "outputs": [
    {
     "name": "stdout",
     "output_type": "stream",
     "text": [
      "ANOVA Results for TOPF_raw\n",
      "F-statistic: 0.32701575711758807\n",
      "p-value: 0.7218642185083002\n"
     ]
    },
    {
     "name": "stderr",
     "output_type": "stream",
     "text": [
      "<ipython-input-48-48d746d16df3>:18: SettingWithCopyWarning: \n",
      "A value is trying to be set on a copy of a slice from a DataFrame.\n",
      "Try using .loc[row_indexer,col_indexer] = value instead\n",
      "\n",
      "See the caveats in the documentation: https://pandas.pydata.org/pandas-docs/stable/user_guide/indexing.html#returning-a-view-versus-a-copy\n",
      "  df[test_col] = df[test_col].replace([np.nan, np.inf, -np.inf], np.nan)\n"
     ]
    }
   ],
   "source": [
    "#TOPF_raw\n",
    "# perform an one-way ANOVA\n",
    "f_statistic, p_value, posthoc_results = perform_one_way_anova(df,'syndrome_v2_v2', 'TOPF_raw')\n",
    "\n",
    "# print ANOVA results\n",
    "print(\"ANOVA Results for TOPF_raw\")\n",
    "print(\"F-statistic:\", f_statistic)\n",
    "print(\"p-value:\", p_value)\n",
    "\n",
    "# print post hoc test results if applicable\n",
    "if posthoc_results is not None:\n",
    "    print(\"Post hoc test results:\")\n",
    "    print(posthoc_results)"
   ]
  },
  {
   "cell_type": "code",
   "execution_count": null,
   "metadata": {},
   "outputs": [],
   "source": []
  }
 ],
 "metadata": {
  "kernelspec": {
   "display_name": "Python 3 (ipykernel)",
   "language": "python",
   "name": "python3"
  },
  "language_info": {
   "codemirror_mode": {
    "name": "ipython",
    "version": 3
   },
   "file_extension": ".py",
   "mimetype": "text/x-python",
   "name": "python",
   "nbconvert_exporter": "python",
   "pygments_lexer": "ipython3",
   "version": "3.11.5"
  }
 },
 "nbformat": 4,
 "nbformat_minor": 4
}
