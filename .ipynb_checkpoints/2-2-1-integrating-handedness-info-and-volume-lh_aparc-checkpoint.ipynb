{
 "cells": [
  {
   "cell_type": "code",
   "execution_count": 159,
   "metadata": {},
   "outputs": [],
   "source": [
    "import csv\n",
    "import pandas as pd\n",
    "import re"
   ]
  },
  {
   "cell_type": "code",
   "execution_count": 160,
   "metadata": {},
   "outputs": [],
   "source": [
    "%%capture\n",
    "with open('output.csv','r') as csv_file:\n",
    "    csv_reader = csv.reader(csv_file)\n",
    "    for row in csv_reader:\n",
    "          print(row)\n",
    "with open('handedness.csv', 'r') as csv_file2:\n",
    "    csv_reader2 = csv.reader(csv_file2)\n",
    "    for row2 in csv_reader2:\n",
    "        print(row2)"
   ]
  },
  {
   "cell_type": "code",
   "execution_count": 161,
   "metadata": {},
   "outputs": [],
   "source": [
    "%%capture\n",
    "# output.csv: the size of a output.csv file\n",
    "df_vol = pd.read_csv('output.csv', header = None)\n",
    "print(f'Number of rows: {len(df_vol)}')\n",
    "print(f'Number of columns: {len(df_vol.columns)}')\n",
    "\n",
    "# output.csv: read the first row; subject ID\n",
    "subject_list_vol = [df_vol.iloc[0][i] for i in df_vol]\n",
    "print(\"this is subject_list_vol\", subject_list_vol)\n",
    "\n",
    "# handedness.csv: the size of handedness.csv file\n",
    "df_hand = pd.read_csv('handedness.csv')\n",
    "df_hand = df_hand.loc[:, ~df_hand.columns.str.startswith('Unnamed')]\n",
    "print(f'Number of rows: {len(df_hand)}')\n",
    "print(f'Number of columns: {len(df_hand.columns)}')\n",
    "\n",
    "# handedness.csv: read the first row; subject ID\n",
    "subj_id_hand = df_hand['Study_ID']\n",
    "subj_id_right_left = df_hand['Handedness']\n",
    "print(\"this is subj_id_hand\", subj_id_hand)"
   ]
  },
  {
   "cell_type": "code",
   "execution_count": 162,
   "metadata": {},
   "outputs": [],
   "source": [
    "%%capture\n",
    "subj_id_hand_index = []\n",
    "handedness_in_order = []\n",
    "error = 0\n",
    "for i in subject_list_vol:\n",
    "    a = subject_list_vol.index(i)\n",
    "    print('*'*50)\n",
    "    print(\"index of i is: \", a)\n",
    "    for ii in subj_id_hand.tolist():\n",
    "        try: \n",
    "            result = re.match(i,ii[0:8])\n",
    "            if result:\n",
    "                print(result.group())\n",
    "                index = subj_id_hand.index[subj_id_hand == ii]\n",
    "                subj_id_hand_index.append(index[0])\n",
    "                print(f\"The index = {index[0]},{a}\")\n",
    "                b = subj_id_hand.tolist().index(ii)\n",
    "                handedness = subj_id_right_left.tolist()[b]\n",
    "                print(f\"the handedness = {handedness}\")\n",
    "                handedness_in_order.append(handedness)\n",
    "                print('*'*50)\n",
    "        except Exception as e:\n",
    "            print('-' * 50)\n",
    "            error += 1\n",
    "            \n",
    "print(error)\n"
   ]
  },
  {
   "cell_type": "code",
   "execution_count": 178,
   "metadata": {},
   "outputs": [],
   "source": [
    "%%capture\n",
    "df_vol_transposed = df_vol.transpose()\n",
    "df_vol_transposed.columns = ['Study_ID',\n",
    "                             'Left-Lateral-Ventricle',\n",
    "                                'Left-Inf-Lat-Vent',\n",
    "                                'Left-Cerebellum-White-Matter',\n",
    "                                'Left-Cerebellum-Cortex',\n",
    "                                'Left-Thalamus-Proper',\n",
    "                                'Left-Caudate',\n",
    "                                'Left-Putamen',\n",
    "                                'Left-Pallidum',\n",
    "                                '3rd-Ventricle',\n",
    "                                '4th-Ventricle',\n",
    "                                'Brain-Stem',\n",
    "                                'Left-Hippocampus',\n",
    "                                'Left-Amygdala',\n",
    "                                'CSF',\n",
    "                                'Left-Accumbens-area',\n",
    "                                'Left-VentralDC',\n",
    "                                'Left-vessel',\n",
    "                                'Left-choroid-plexus',\n",
    "                                'Right-Lateral-Ventricle',\n",
    "                                'Right-Inf-Lat-Vent',\n",
    "                                'Right-Cerebellum-White-Matter',\n",
    "                                'Right-Cerebellum-Cortex',\n",
    "                                'Right-Thalamus-Proper',\n",
    "                                'Right-Caudate',\n",
    "                                'Right-Putamen',\n",
    "                                'Right-Pallidum',\n",
    "                                'Right-Hippocampus',\n",
    "                                'Right-Amygdala',\n",
    "                                'Right-Accumbens-area',\n",
    "                                'Right-VentralDC',\n",
    "                                'Right-vessel',\n",
    "                                'Right-choroid-plexus',\n",
    "                                '5th-Ventricle',\n",
    "                                'WM-hypointensities',\n",
    "                                'Left-WM-hypointensities',\n",
    "                                'Right-WM-hypointensities',\n",
    "                                'non-WM-hypointensities',\n",
    "                                'Left-non-WM-hypointensities',\n",
    "                                'Right-non-WM-hypointensities',\n",
    "                                'Optic-Chiasm',\n",
    "                                'CC_Posterior',\n",
    "                                'CC_Mid_Posterior',\n",
    "                                'CC_Central',\n",
    "                                'CC_Mid_Anterior',\n",
    "                                'CC_Anterior' ]\n",
    "print(df_vol_transposed)\n",
    "df_hand['Study_ID']=df_hand['Study_ID'].apply(lambda x: x[:8])\n",
    "#print(df_hand)"
   ]
  },
  {
   "cell_type": "code",
   "execution_count": 183,
   "metadata": {},
   "outputs": [],
   "source": [
    "%%capture\n",
    "# merge two dataframes by subject ID\n",
    "merged_df = pd.merge(df_vol_transposed, df_hand, on = 'Study_ID')\n",
    "print(merged_df)"
   ]
  },
  {
   "cell_type": "code",
   "execution_count": 184,
   "metadata": {},
   "outputs": [],
   "source": [
    "#save results as a csv file\n",
    "merged_df.to_csv('merged.csv', index = False)"
   ]
  },
  {
   "cell_type": "code",
   "execution_count": null,
   "metadata": {},
   "outputs": [],
   "source": []
  }
 ],
 "metadata": {
  "kernelspec": {
   "display_name": "Python 3 (ipykernel)",
   "language": "python",
   "name": "python3"
  },
  "language_info": {
   "codemirror_mode": {
    "name": "ipython",
    "version": 3
   },
   "file_extension": ".py",
   "mimetype": "text/x-python",
   "name": "python",
   "nbconvert_exporter": "python",
   "pygments_lexer": "ipython3",
   "version": "3.11.5"
  }
 },
 "nbformat": 4,
 "nbformat_minor": 4
}
