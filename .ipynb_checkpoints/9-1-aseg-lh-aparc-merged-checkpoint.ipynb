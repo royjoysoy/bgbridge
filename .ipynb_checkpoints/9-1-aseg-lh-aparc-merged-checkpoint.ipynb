{
 "cells": [
  {
   "cell_type": "code",
   "execution_count": 1,
   "id": "70d4af9e",
   "metadata": {},
   "outputs": [],
   "source": [
    "# to mearge lh-aparc-merged and XX on May 7th 2024"
   ]
  },
  {
   "cell_type": "code",
   "execution_count": 2,
   "id": "406842b8",
   "metadata": {},
   "outputs": [],
   "source": [
    "import pandas as pd"
   ]
  },
  {
   "cell_type": "code",
   "execution_count": 19,
   "id": "a581f2a3",
   "metadata": {},
   "outputs": [],
   "source": [
    "aseg = pd.read_csv('~/fsgroupAug11/subj/4-1-add-dx-lh_aparc_modified_for_aseg_stats.csv')\n",
    "lh_aparc = pd.read_csv('~/fsgroupAug11/bgbridge/4-1-add-dx-lh_aparc.csv')"
   ]
  },
  {
   "cell_type": "code",
   "execution_count": 20,
   "id": "5246b707",
   "metadata": {},
   "outputs": [
    {
     "name": "stdout",
     "output_type": "stream",
     "text": [
      "Index(['V1', 'Study_ID', 'patientlist_ethnicbackground_v2_v2',\n",
      "       'patientlist_ethnicgroup_v2_v2', 'age_at_onset_v2_v2', 'syndrome_v2_v2',\n",
      "       'syndromeseverityconfidence_v2_v2', 'Age', 'Edu', 'NPT_date',\n",
      "       'FAS_total_raw', 'FAS_total_T', 'Animals_raw', 'Animals_T',\n",
      "       'BNT_totalwstim_raw', 'BNT_totalwstim_T', 'Left-Lateral-Ventricle',\n",
      "       'Left-Inf-Lat-Vent', 'Left-Cerebellum-White-Matter',\n",
      "       'Left-Cerebellum-Cortex', 'Left-Thalamus-Proper', 'Left-Caudate',\n",
      "       'Left-Putamen', 'Left-Pallidum', '3rd-Ventricle', '4th-Ventricle',\n",
      "       'Brain-Stem', 'Left-Hippocampus', 'Left-Amygdala', 'CSF',\n",
      "       'Left-Accumbens-area', 'Left-VentralDC', 'Left-vessel',\n",
      "       'Left-choroid-plexus', 'Right-Lateral-Ventricle', 'Right-Inf-Lat-Vent',\n",
      "       'Right-Cerebellum-White-Matter', 'Right-Cerebellum-Cortex',\n",
      "       'Right-Thalamus-Proper', 'Right-Caudate', 'Right-Putamen',\n",
      "       'Right-Pallidum', 'Right-Hippocampus', 'Right-Amygdala',\n",
      "       'Right-Accumbens-area', 'Right-VentralDC', 'Right-vessel',\n",
      "       'Right-choroid-plexus', '5th-Ventricle', 'WM-hypointensities',\n",
      "       'Left-WM-hypointensities', 'Right-WM-hypointensities',\n",
      "       'non-WM-hypointensities', 'Left-non-WM-hypointensities',\n",
      "       'Right-non-WM-hypointensities', 'Optic-Chiasm', 'CC_Posterior',\n",
      "       'CC_Mid_Posterior', 'CC_Central', 'CC_Mid_Anterior', 'CC_Anterior',\n",
      "       'Handedness'],\n",
      "      dtype='object')\n"
     ]
    }
   ],
   "source": [
    "print(aseg.columns)"
   ]
  },
  {
   "cell_type": "code",
   "execution_count": 21,
   "id": "24d1eeb7",
   "metadata": {},
   "outputs": [
    {
     "name": "stdout",
     "output_type": "stream",
     "text": [
      "Index(['V1', 'Study_ID', 'patientlist_ethnicbackground_v2_v2',\n",
      "       'patientlist_ethnicgroup_v2_v2', 'age_at_onset_v2_v2', 'syndrome_v2_v2',\n",
      "       'syndromeseverityconfidence_v2_v2', 'Age', 'Edu', 'NPT_date',\n",
      "       'FAS_total_raw', 'FAS_total_T', 'Animals_raw', 'Animals_T',\n",
      "       'BNT_totalwstim_raw', 'BNT_totalwstim_T', 'Left-Lateral-Ventricle',\n",
      "       'Left-Inf-Lat-Vent', 'Left-Cerebellum-White-Matter',\n",
      "       'Left-Cerebellum-Cortex', 'Left-Thalamus-Proper', 'Left-Caudate',\n",
      "       'Left-Putamen', 'Left-Pallidum', '3rd-Ventricle', '4th-Ventricle',\n",
      "       'Brain-Stem', 'Left-Hippocampus', 'Left-Amygdala', 'CSF',\n",
      "       'Left-Accumbens-area', 'Left-VentralDC', 'Left-vessel',\n",
      "       'Left-choroid-plexus', 'Right-Lateral-Ventricle', 'Right-Inf-Lat-Vent',\n",
      "       'Right-Cerebellum-White-Matter', 'Right-Cerebellum-Cortex',\n",
      "       'Right-Thalamus-Proper', 'Right-Caudate', 'Right-Putamen',\n",
      "       'Right-Pallidum', 'Right-Hippocampus', 'Right-Amygdala',\n",
      "       'Right-Accumbens-area', 'Right-VentralDC', 'Right-vessel',\n",
      "       'Right-choroid-plexus', '5th-Ventricle', 'WM-hypointensities',\n",
      "       'Left-WM-hypointensities', 'Right-WM-hypointensities',\n",
      "       'non-WM-hypointensities', 'Left-non-WM-hypointensities',\n",
      "       'Right-non-WM-hypointensities', 'Optic-Chiasm', 'CC_Posterior',\n",
      "       'CC_Mid_Posterior', 'CC_Central', 'CC_Mid_Anterior', 'CC_Anterior',\n",
      "       'Handedness'],\n",
      "      dtype='object')\n"
     ]
    }
   ],
   "source": [
    "print(aseg.columns)"
   ]
  },
  {
   "cell_type": "code",
   "execution_count": 26,
   "id": "31c43a25",
   "metadata": {},
   "outputs": [],
   "source": [
    "# Check if Study_ID in lh_aprc and aseg are identical and\n",
    "# Run merge if they are the same\n",
    "if aseg['Study_ID'].equals(lh_aparc['Study_ID']):\n",
    "    merged_df = pd.merge(aseg,lh_aparc, on='Study_ID')\n",
    "    merged_df.to_csv('9-1-aseg-lh-aparc-merged.csv')\n",
    "    #print(merged_df.head(3))\n",
    "else:\n",
    "    print(\"can't merge the two data frame because the two columns aren't the same\")"
   ]
  },
  {
   "cell_type": "code",
   "execution_count": 27,
   "id": "b65fc48e",
   "metadata": {},
   "outputs": [],
   "source": [
    "merged = pd.read_csv('9-1-aseg-lh-aparc-merged.csv')"
   ]
  },
  {
   "cell_type": "code",
   "execution_count": 29,
   "id": "8bc89d05",
   "metadata": {},
   "outputs": [
    {
     "name": "stdout",
     "output_type": "stream",
     "text": [
      "Shape of aseg:  (391, 62)\n",
      "Shape of lh_aparc:  (391, 51)\n",
      "Shape of merged (415, 113)\n"
     ]
    }
   ],
   "source": [
    "# Verify if the merge operation was performed correctly \n",
    "# Check the shape\n",
    "print(\"Shape of aseg: \", aseg.shape)\n",
    "print(\"Shape of lh_aparc: \", lh_aparc.shape)\n",
    "\n",
    "print(\"Shape of merged\", merged.shape)"
   ]
  },
  {
   "cell_type": "code",
   "execution_count": 32,
   "id": "6b9e3dc3",
   "metadata": {},
   "outputs": [
    {
     "name": "stdout",
     "output_type": "stream",
     "text": [
      "Unnamed: 0': 0\n",
      "V1_x': 0\n",
      "Study_ID': 0\n",
      "patientlist_ethnicbackground_v2_v2_x': 0\n",
      "patientlist_ethnicgroup_v2_v2_x': 1\n",
      "age_at_onset_v2_v2_x': 9\n",
      "syndrome_v2_v2_x': 0\n",
      "syndromeseverityconfidence_v2_v2_x': 53\n",
      "Age_x': 1\n",
      "Edu_x': 7\n",
      "NPT_date_x': 1\n",
      "FAS_total_raw_x': 48\n",
      "FAS_total_T_x': 54\n",
      "Animals_raw_x': 50\n",
      "Animals_T_x': 57\n",
      "BNT_totalwstim_raw_x': 48\n",
      "BNT_totalwstim_T_x': 54\n",
      "Left-Lateral-Ventricle': 0\n",
      "Left-Inf-Lat-Vent': 0\n",
      "Left-Cerebellum-White-Matter': 0\n",
      "Left-Cerebellum-Cortex': 0\n",
      "Left-Thalamus-Proper': 0\n",
      "Left-Caudate': 0\n",
      "Left-Putamen': 0\n",
      "Left-Pallidum': 0\n",
      "3rd-Ventricle': 0\n",
      "4th-Ventricle': 0\n",
      "Brain-Stem': 0\n",
      "Left-Hippocampus': 0\n",
      "Left-Amygdala': 0\n",
      "CSF': 0\n",
      "Left-Accumbens-area': 0\n",
      "Left-VentralDC': 0\n",
      "Left-vessel': 0\n",
      "Left-choroid-plexus': 0\n",
      "Right-Lateral-Ventricle': 0\n",
      "Right-Inf-Lat-Vent': 0\n",
      "Right-Cerebellum-White-Matter': 0\n",
      "Right-Cerebellum-Cortex': 0\n",
      "Right-Thalamus-Proper': 0\n",
      "Right-Caudate': 0\n",
      "Right-Putamen': 0\n",
      "Right-Pallidum': 0\n",
      "Right-Hippocampus': 0\n",
      "Right-Amygdala': 0\n",
      "Right-Accumbens-area': 0\n",
      "Right-VentralDC': 0\n",
      "Right-vessel': 0\n",
      "Right-choroid-plexus': 0\n",
      "5th-Ventricle': 0\n",
      "WM-hypointensities': 0\n",
      "Left-WM-hypointensities': 0\n",
      "Right-WM-hypointensities': 0\n",
      "non-WM-hypointensities': 0\n",
      "Left-non-WM-hypointensities': 0\n",
      "Right-non-WM-hypointensities': 0\n",
      "Optic-Chiasm': 0\n",
      "CC_Posterior': 0\n",
      "CC_Mid_Posterior': 0\n",
      "CC_Central': 0\n",
      "CC_Mid_Anterior': 0\n",
      "CC_Anterior': 0\n",
      "Handedness_x': 0\n",
      "V1_y': 0\n",
      "patientlist_ethnicbackground_v2_v2_y': 0\n",
      "patientlist_ethnicgroup_v2_v2_y': 1\n",
      "age_at_onset_v2_v2_y': 9\n",
      "syndrome_v2_v2_y': 0\n",
      "syndromeseverityconfidence_v2_v2_y': 53\n",
      "Age_y': 1\n",
      "Edu_y': 7\n",
      "NPT_date_y': 1\n",
      "FAS_total_raw_y': 48\n",
      "FAS_total_T_y': 54\n",
      "Animals_raw_y': 50\n",
      "Animals_T_y': 57\n",
      "BNT_totalwstim_raw_y': 48\n",
      "BNT_totalwstim_T_y': 54\n",
      "bankssts': 0\n",
      "caudalanteriorcingulate': 0\n",
      "caudalmiddlefrontal': 0\n",
      "cuneus': 0\n",
      "entorhinal': 0\n",
      "fusiform': 0\n",
      "inferiorparietal': 0\n",
      "inferiortemporal': 0\n",
      "isthmuscingulate': 0\n",
      "lateraloccipital': 0\n",
      "lateralorbitofrontal': 0\n",
      "lingual': 0\n",
      "medialorbitofrontal': 0\n",
      "middletemporal': 0\n",
      "parahippocampal': 0\n",
      "paracentral': 0\n",
      "parsopercularis': 0\n",
      "parsorbitalis': 0\n",
      "parstriangularis': 0\n",
      "pericalcarine': 0\n",
      "postcentral': 0\n",
      "posteriorcingulate': 0\n",
      "precentral': 0\n",
      "precuneus': 0\n",
      "rostralanteriorcingulate': 0\n",
      "rostralmiddlefrontal': 0\n",
      "superiorfrontal': 0\n",
      "superiorparietal': 0\n",
      "superiortemporal': 0\n",
      "supramarginal': 0\n",
      "frontalpole': 0\n",
      "temporalpole': 0\n",
      "transversetemporal': 0\n",
      "insula': 0\n",
      "Handedness_y': 0\n"
     ]
    }
   ],
   "source": [
    "# # Verify if the merge operation was performed correctly \n",
    "# Check for missing values\n",
    "\n",
    "missing_values_count = merged.isnull().sum()\n",
    "for column_name, missing_count in missing_values_count.items():\n",
    "    print(f\"{column_name}': {missing_count}\")"
   ]
  },
  {
   "cell_type": "code",
   "execution_count": null,
   "id": "cc673fdb",
   "metadata": {},
   "outputs": [],
   "source": []
  }
 ],
 "metadata": {
  "kernelspec": {
   "display_name": "Python (bgbridge)",
   "language": "python",
   "name": "bgbridge"
  },
  "language_info": {
   "codemirror_mode": {
    "name": "ipython",
    "version": 3
   },
   "file_extension": ".py",
   "mimetype": "text/x-python",
   "name": "python",
   "nbconvert_exporter": "python",
   "pygments_lexer": "ipython3",
   "version": "3.8.16"
  }
 },
 "nbformat": 4,
 "nbformat_minor": 5
}
