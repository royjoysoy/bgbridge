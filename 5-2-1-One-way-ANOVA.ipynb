{
 "cells": [
  {
   "cell_type": "code",
   "execution_count": 1,
   "metadata": {},
   "outputs": [],
   "source": [
    "import numpy as np\n",
    "import pandas as pd\n",
    "from scipy.stats import f_oneway\n",
    "from statsmodels.stats.multicomp import pairwise_tukeyhsd"
   ]
  },
  {
   "cell_type": "code",
   "execution_count": 2,
   "metadata": {},
   "outputs": [
    {
     "ename": "FileNotFoundError",
     "evalue": "[Errno 2] No such file or directory: 'data.csv'",
     "output_type": "error",
     "traceback": [
      "\u001b[0;31m---------------------------------------------------------------------------\u001b[0m",
      "\u001b[0;31mFileNotFoundError\u001b[0m                         Traceback (most recent call last)",
      "Cell \u001b[0;32mIn[2], line 3\u001b[0m\n\u001b[1;32m      1\u001b[0m \u001b[38;5;66;03m#%%capture\u001b[39;00m\n\u001b[1;32m      2\u001b[0m \u001b[38;5;66;03m#load the dataset\u001b[39;00m\n\u001b[0;32m----> 3\u001b[0m df \u001b[38;5;241m=\u001b[39m pd\u001b[38;5;241m.\u001b[39mread_csv(\u001b[38;5;124m'\u001b[39m\u001b[38;5;124mdata.csv\u001b[39m\u001b[38;5;124m'\u001b[39m)\n\u001b[1;32m      4\u001b[0m pd\u001b[38;5;241m.\u001b[39mset_option(\u001b[38;5;124m'\u001b[39m\u001b[38;5;124mmax_columns\u001b[39m\u001b[38;5;124m'\u001b[39m, \u001b[38;5;28;01mNone\u001b[39;00m) \u001b[38;5;66;03m# Display the DataFrame with all columns shown\u001b[39;00m\n\u001b[1;32m      5\u001b[0m \u001b[38;5;28mprint\u001b[39m(\u001b[38;5;28mlist\u001b[39m(df\u001b[38;5;241m.\u001b[39mcolumns))\n",
      "File \u001b[0;32m/usr/local/anaconda3/lib/python3.11/site-packages/pandas/io/parsers/readers.py:912\u001b[0m, in \u001b[0;36mread_csv\u001b[0;34m(filepath_or_buffer, sep, delimiter, header, names, index_col, usecols, dtype, engine, converters, true_values, false_values, skipinitialspace, skiprows, skipfooter, nrows, na_values, keep_default_na, na_filter, verbose, skip_blank_lines, parse_dates, infer_datetime_format, keep_date_col, date_parser, date_format, dayfirst, cache_dates, iterator, chunksize, compression, thousands, decimal, lineterminator, quotechar, quoting, doublequote, escapechar, comment, encoding, encoding_errors, dialect, on_bad_lines, delim_whitespace, low_memory, memory_map, float_precision, storage_options, dtype_backend)\u001b[0m\n\u001b[1;32m    899\u001b[0m kwds_defaults \u001b[38;5;241m=\u001b[39m _refine_defaults_read(\n\u001b[1;32m    900\u001b[0m     dialect,\n\u001b[1;32m    901\u001b[0m     delimiter,\n\u001b[0;32m   (...)\u001b[0m\n\u001b[1;32m    908\u001b[0m     dtype_backend\u001b[38;5;241m=\u001b[39mdtype_backend,\n\u001b[1;32m    909\u001b[0m )\n\u001b[1;32m    910\u001b[0m kwds\u001b[38;5;241m.\u001b[39mupdate(kwds_defaults)\n\u001b[0;32m--> 912\u001b[0m \u001b[38;5;28;01mreturn\u001b[39;00m _read(filepath_or_buffer, kwds)\n",
      "File \u001b[0;32m/usr/local/anaconda3/lib/python3.11/site-packages/pandas/io/parsers/readers.py:577\u001b[0m, in \u001b[0;36m_read\u001b[0;34m(filepath_or_buffer, kwds)\u001b[0m\n\u001b[1;32m    574\u001b[0m _validate_names(kwds\u001b[38;5;241m.\u001b[39mget(\u001b[38;5;124m\"\u001b[39m\u001b[38;5;124mnames\u001b[39m\u001b[38;5;124m\"\u001b[39m, \u001b[38;5;28;01mNone\u001b[39;00m))\n\u001b[1;32m    576\u001b[0m \u001b[38;5;66;03m# Create the parser.\u001b[39;00m\n\u001b[0;32m--> 577\u001b[0m parser \u001b[38;5;241m=\u001b[39m TextFileReader(filepath_or_buffer, \u001b[38;5;241m*\u001b[39m\u001b[38;5;241m*\u001b[39mkwds)\n\u001b[1;32m    579\u001b[0m \u001b[38;5;28;01mif\u001b[39;00m chunksize \u001b[38;5;129;01mor\u001b[39;00m iterator:\n\u001b[1;32m    580\u001b[0m     \u001b[38;5;28;01mreturn\u001b[39;00m parser\n",
      "File \u001b[0;32m/usr/local/anaconda3/lib/python3.11/site-packages/pandas/io/parsers/readers.py:1407\u001b[0m, in \u001b[0;36mTextFileReader.__init__\u001b[0;34m(self, f, engine, **kwds)\u001b[0m\n\u001b[1;32m   1404\u001b[0m     \u001b[38;5;28mself\u001b[39m\u001b[38;5;241m.\u001b[39moptions[\u001b[38;5;124m\"\u001b[39m\u001b[38;5;124mhas_index_names\u001b[39m\u001b[38;5;124m\"\u001b[39m] \u001b[38;5;241m=\u001b[39m kwds[\u001b[38;5;124m\"\u001b[39m\u001b[38;5;124mhas_index_names\u001b[39m\u001b[38;5;124m\"\u001b[39m]\n\u001b[1;32m   1406\u001b[0m \u001b[38;5;28mself\u001b[39m\u001b[38;5;241m.\u001b[39mhandles: IOHandles \u001b[38;5;241m|\u001b[39m \u001b[38;5;28;01mNone\u001b[39;00m \u001b[38;5;241m=\u001b[39m \u001b[38;5;28;01mNone\u001b[39;00m\n\u001b[0;32m-> 1407\u001b[0m \u001b[38;5;28mself\u001b[39m\u001b[38;5;241m.\u001b[39m_engine \u001b[38;5;241m=\u001b[39m \u001b[38;5;28mself\u001b[39m\u001b[38;5;241m.\u001b[39m_make_engine(f, \u001b[38;5;28mself\u001b[39m\u001b[38;5;241m.\u001b[39mengine)\n",
      "File \u001b[0;32m/usr/local/anaconda3/lib/python3.11/site-packages/pandas/io/parsers/readers.py:1661\u001b[0m, in \u001b[0;36mTextFileReader._make_engine\u001b[0;34m(self, f, engine)\u001b[0m\n\u001b[1;32m   1659\u001b[0m     \u001b[38;5;28;01mif\u001b[39;00m \u001b[38;5;124m\"\u001b[39m\u001b[38;5;124mb\u001b[39m\u001b[38;5;124m\"\u001b[39m \u001b[38;5;129;01mnot\u001b[39;00m \u001b[38;5;129;01min\u001b[39;00m mode:\n\u001b[1;32m   1660\u001b[0m         mode \u001b[38;5;241m+\u001b[39m\u001b[38;5;241m=\u001b[39m \u001b[38;5;124m\"\u001b[39m\u001b[38;5;124mb\u001b[39m\u001b[38;5;124m\"\u001b[39m\n\u001b[0;32m-> 1661\u001b[0m \u001b[38;5;28mself\u001b[39m\u001b[38;5;241m.\u001b[39mhandles \u001b[38;5;241m=\u001b[39m get_handle(\n\u001b[1;32m   1662\u001b[0m     f,\n\u001b[1;32m   1663\u001b[0m     mode,\n\u001b[1;32m   1664\u001b[0m     encoding\u001b[38;5;241m=\u001b[39m\u001b[38;5;28mself\u001b[39m\u001b[38;5;241m.\u001b[39moptions\u001b[38;5;241m.\u001b[39mget(\u001b[38;5;124m\"\u001b[39m\u001b[38;5;124mencoding\u001b[39m\u001b[38;5;124m\"\u001b[39m, \u001b[38;5;28;01mNone\u001b[39;00m),\n\u001b[1;32m   1665\u001b[0m     compression\u001b[38;5;241m=\u001b[39m\u001b[38;5;28mself\u001b[39m\u001b[38;5;241m.\u001b[39moptions\u001b[38;5;241m.\u001b[39mget(\u001b[38;5;124m\"\u001b[39m\u001b[38;5;124mcompression\u001b[39m\u001b[38;5;124m\"\u001b[39m, \u001b[38;5;28;01mNone\u001b[39;00m),\n\u001b[1;32m   1666\u001b[0m     memory_map\u001b[38;5;241m=\u001b[39m\u001b[38;5;28mself\u001b[39m\u001b[38;5;241m.\u001b[39moptions\u001b[38;5;241m.\u001b[39mget(\u001b[38;5;124m\"\u001b[39m\u001b[38;5;124mmemory_map\u001b[39m\u001b[38;5;124m\"\u001b[39m, \u001b[38;5;28;01mFalse\u001b[39;00m),\n\u001b[1;32m   1667\u001b[0m     is_text\u001b[38;5;241m=\u001b[39mis_text,\n\u001b[1;32m   1668\u001b[0m     errors\u001b[38;5;241m=\u001b[39m\u001b[38;5;28mself\u001b[39m\u001b[38;5;241m.\u001b[39moptions\u001b[38;5;241m.\u001b[39mget(\u001b[38;5;124m\"\u001b[39m\u001b[38;5;124mencoding_errors\u001b[39m\u001b[38;5;124m\"\u001b[39m, \u001b[38;5;124m\"\u001b[39m\u001b[38;5;124mstrict\u001b[39m\u001b[38;5;124m\"\u001b[39m),\n\u001b[1;32m   1669\u001b[0m     storage_options\u001b[38;5;241m=\u001b[39m\u001b[38;5;28mself\u001b[39m\u001b[38;5;241m.\u001b[39moptions\u001b[38;5;241m.\u001b[39mget(\u001b[38;5;124m\"\u001b[39m\u001b[38;5;124mstorage_options\u001b[39m\u001b[38;5;124m\"\u001b[39m, \u001b[38;5;28;01mNone\u001b[39;00m),\n\u001b[1;32m   1670\u001b[0m )\n\u001b[1;32m   1671\u001b[0m \u001b[38;5;28;01massert\u001b[39;00m \u001b[38;5;28mself\u001b[39m\u001b[38;5;241m.\u001b[39mhandles \u001b[38;5;129;01mis\u001b[39;00m \u001b[38;5;129;01mnot\u001b[39;00m \u001b[38;5;28;01mNone\u001b[39;00m\n\u001b[1;32m   1672\u001b[0m f \u001b[38;5;241m=\u001b[39m \u001b[38;5;28mself\u001b[39m\u001b[38;5;241m.\u001b[39mhandles\u001b[38;5;241m.\u001b[39mhandle\n",
      "File \u001b[0;32m/usr/local/anaconda3/lib/python3.11/site-packages/pandas/io/common.py:859\u001b[0m, in \u001b[0;36mget_handle\u001b[0;34m(path_or_buf, mode, encoding, compression, memory_map, is_text, errors, storage_options)\u001b[0m\n\u001b[1;32m    854\u001b[0m \u001b[38;5;28;01melif\u001b[39;00m \u001b[38;5;28misinstance\u001b[39m(handle, \u001b[38;5;28mstr\u001b[39m):\n\u001b[1;32m    855\u001b[0m     \u001b[38;5;66;03m# Check whether the filename is to be opened in binary mode.\u001b[39;00m\n\u001b[1;32m    856\u001b[0m     \u001b[38;5;66;03m# Binary mode does not support 'encoding' and 'newline'.\u001b[39;00m\n\u001b[1;32m    857\u001b[0m     \u001b[38;5;28;01mif\u001b[39;00m ioargs\u001b[38;5;241m.\u001b[39mencoding \u001b[38;5;129;01mand\u001b[39;00m \u001b[38;5;124m\"\u001b[39m\u001b[38;5;124mb\u001b[39m\u001b[38;5;124m\"\u001b[39m \u001b[38;5;129;01mnot\u001b[39;00m \u001b[38;5;129;01min\u001b[39;00m ioargs\u001b[38;5;241m.\u001b[39mmode:\n\u001b[1;32m    858\u001b[0m         \u001b[38;5;66;03m# Encoding\u001b[39;00m\n\u001b[0;32m--> 859\u001b[0m         handle \u001b[38;5;241m=\u001b[39m \u001b[38;5;28mopen\u001b[39m(\n\u001b[1;32m    860\u001b[0m             handle,\n\u001b[1;32m    861\u001b[0m             ioargs\u001b[38;5;241m.\u001b[39mmode,\n\u001b[1;32m    862\u001b[0m             encoding\u001b[38;5;241m=\u001b[39mioargs\u001b[38;5;241m.\u001b[39mencoding,\n\u001b[1;32m    863\u001b[0m             errors\u001b[38;5;241m=\u001b[39merrors,\n\u001b[1;32m    864\u001b[0m             newline\u001b[38;5;241m=\u001b[39m\u001b[38;5;124m\"\u001b[39m\u001b[38;5;124m\"\u001b[39m,\n\u001b[1;32m    865\u001b[0m         )\n\u001b[1;32m    866\u001b[0m     \u001b[38;5;28;01melse\u001b[39;00m:\n\u001b[1;32m    867\u001b[0m         \u001b[38;5;66;03m# Binary mode\u001b[39;00m\n\u001b[1;32m    868\u001b[0m         handle \u001b[38;5;241m=\u001b[39m \u001b[38;5;28mopen\u001b[39m(handle, ioargs\u001b[38;5;241m.\u001b[39mmode)\n",
      "\u001b[0;31mFileNotFoundError\u001b[0m: [Errno 2] No such file or directory: 'data.csv'"
     ]
    }
   ],
   "source": [
    "#%%capture\n",
    "#load the dataset\n",
    "df = pd.read_csv('data.csv')\n",
    "pd.set_option('max_columns', None) # Display the DataFrame with all columns shown\n",
    "print(list(df.columns))\n",
    "\n",
    "# 1 Mild Cognitive Impairment\n",
    "# 2 Dementia\n",
    "# 3 Subjective Memory Complaint/Normal Cognition\n",
    "# 4 Unknown - defer to record\n",
    "\n",
    "\n",
    "# MCI_df = df[df['syndrome_v2_v2'] == 1]\n",
    "# Dementia_df = df[df['syndrome_v2_v2'] == 2]\n",
    "# CN_df = df[df['syndrome_v2_v2'] == 3]\n"
   ]
  },
  {
   "cell_type": "code",
   "execution_count": 3,
   "metadata": {},
   "outputs": [],
   "source": [
    "def perform_one_way_anova(df, group_col, test_col):\n",
    "    '''\n",
    "    perfrom one-way ANOVA on multiple tests in a dataframe.\n",
    "    \n",
    "    Parameters:\n",
    "        - df (pd.DataFrame): Input dataframe\n",
    "        - group_col (str) : Column name containing the group labels\n",
    "        - test_col (str): Column name containing the test results\n",
    "        \n",
    "    Returns:\n",
    "        - f_statistic (float): F-statistic from the ANOVA\n",
    "        - p_value (float): p_value from the ANOVA\n",
    "        - posthoc_results (pd.DataFrame): Post hot test results using Tukey's HSD test if p-value < 0.05\n",
    "        \n",
    "    '''\n",
    "    df = df[df[group_col] != 4]  \n",
    "  # replace missing values in the test column with NaN\n",
    "    df[test_col] = df[test_col].replace([np.nan, np.inf, -np.inf], np.nan)\n",
    "    \n",
    "  # drop rows with missing values in the test column\n",
    "    df = df.dropna(subset = [test_col])\n",
    "\n",
    "  # extract the 'score' column\n",
    "    scores = df[test_col]\n",
    "\n",
    "  # extract the 'syndrome_v2_v2' column\n",
    "    groups = df[group_col].unique()\n",
    "  # perform one-way ANOVA\n",
    "    f_statistic, p_value = f_oneway(*[scores[df[group_col] == group] for group in groups])\n",
    " \n",
    "    \n",
    "    # perform post hoc test using Tukey's HSD test if p-value < 0.05\n",
    "    posthoc_results = None\n",
    "    if p_value < 0.05:\n",
    "        posthoc_results = pairwaise_tukeyhsd(df[test_col],df[group_col])\n",
    "        \n",
    "    return f_statistic, p_value, posthoc_results"
   ]
  },
  {
   "cell_type": "code",
   "execution_count": 4,
   "metadata": {},
   "outputs": [
    {
     "ename": "NameError",
     "evalue": "name 'np' is not defined",
     "output_type": "error",
     "traceback": [
      "\u001b[0;31m---------------------------------------------------------------------------\u001b[0m",
      "\u001b[0;31mNameError\u001b[0m                                 Traceback (most recent call last)",
      "Cell \u001b[0;32mIn[4], line 4\u001b[0m\n\u001b[1;32m      1\u001b[0m \u001b[38;5;66;03m# Animals_raw\u001b[39;00m\n\u001b[1;32m      2\u001b[0m \n\u001b[1;32m      3\u001b[0m \u001b[38;5;66;03m# perform an one-way ANOVA\u001b[39;00m\n\u001b[0;32m----> 4\u001b[0m f_statistic, p_value, posthoc_results \u001b[38;5;241m=\u001b[39m \u001b[43mperform_one_way_anova\u001b[49m\u001b[43m(\u001b[49m\u001b[43mdf\u001b[49m\u001b[43m,\u001b[49m\u001b[38;5;124;43m'\u001b[39;49m\u001b[38;5;124;43msyndrome_v2_v2\u001b[39;49m\u001b[38;5;124;43m'\u001b[39;49m\u001b[43m,\u001b[49m\u001b[43m \u001b[49m\u001b[38;5;124;43m'\u001b[39;49m\u001b[38;5;124;43mAnimals_raw\u001b[39;49m\u001b[38;5;124;43m'\u001b[39;49m\u001b[43m)\u001b[49m\n\u001b[1;32m      6\u001b[0m \u001b[38;5;66;03m# print ANOVA results\u001b[39;00m\n\u001b[1;32m      7\u001b[0m \u001b[38;5;28mprint\u001b[39m(\u001b[38;5;124m\"\u001b[39m\u001b[38;5;124mANOVA Results for Animals_raw\u001b[39m\u001b[38;5;124m\"\u001b[39m)\n",
      "Cell \u001b[0;32mIn[3], line 18\u001b[0m, in \u001b[0;36mperform_one_way_anova\u001b[0;34m(df, group_col, test_col)\u001b[0m\n\u001b[1;32m     16\u001b[0m   df \u001b[38;5;241m=\u001b[39m df[df[group_col] \u001b[38;5;241m!=\u001b[39m \u001b[38;5;241m4\u001b[39m]  \n\u001b[1;32m     17\u001b[0m \u001b[38;5;66;03m# replace missing values in the test column with NaN\u001b[39;00m\n\u001b[0;32m---> 18\u001b[0m   df[test_col] \u001b[38;5;241m=\u001b[39m df[test_col]\u001b[38;5;241m.\u001b[39mreplace([\u001b[43mnp\u001b[49m\u001b[38;5;241m.\u001b[39mnan, np\u001b[38;5;241m.\u001b[39minf, \u001b[38;5;241m-\u001b[39mnp\u001b[38;5;241m.\u001b[39minf], np\u001b[38;5;241m.\u001b[39mnan)\n\u001b[1;32m     20\u001b[0m \u001b[38;5;66;03m# drop rows with missing values in the test column\u001b[39;00m\n\u001b[1;32m     21\u001b[0m   df \u001b[38;5;241m=\u001b[39m df\u001b[38;5;241m.\u001b[39mdropna(subset \u001b[38;5;241m=\u001b[39m [test_col])\n",
      "\u001b[0;31mNameError\u001b[0m: name 'np' is not defined"
     ]
    }
   ],
   "source": [
    "# Animals_raw\n",
    "\n",
    "# perform an one-way ANOVA\n",
    "f_statistic, p_value, posthoc_results = perform_one_way_anova(df,'syndrome_v2_v2', 'Animals_raw')\n",
    "\n",
    "# print ANOVA results\n",
    "print(\"ANOVA Results for Animals_raw\")\n",
    "print(\"F-statistic:\", f_statistic)\n",
    "print(\"p-value:\", p_value)\n",
    "\n",
    "# print post hoc test results if applicable\n",
    "if posthoc_results is not None:\n",
    "    print(\"Post hoc test results:\")\n",
    "    print(posthoc_results)\n"
   ]
  },
  {
   "cell_type": "code",
   "execution_count": 38,
   "metadata": {},
   "outputs": [
    {
     "name": "stdout",
     "output_type": "stream",
     "text": [
      "ANOVA Results for FAS_total_raw\n",
      "F-statistic: 0.5629508223530136\n",
      "p-value: 0.5700143626374399\n"
     ]
    },
    {
     "name": "stderr",
     "output_type": "stream",
     "text": [
      "<ipython-input-35-48d746d16df3>:18: SettingWithCopyWarning: \n",
      "A value is trying to be set on a copy of a slice from a DataFrame.\n",
      "Try using .loc[row_indexer,col_indexer] = value instead\n",
      "\n",
      "See the caveats in the documentation: https://pandas.pydata.org/pandas-docs/stable/user_guide/indexing.html#returning-a-view-versus-a-copy\n",
      "  df[test_col] = df[test_col].replace([np.nan, np.inf, -np.inf], np.nan)\n"
     ]
    }
   ],
   "source": [
    "# FAS_total_raw  \n",
    "# perform an one-way ANOVA\n",
    "f_statistic, p_value, posthoc_results = perform_one_way_anova(df,'syndrome_v2_v2', 'FAS_total_raw')\n",
    "\n",
    "# print ANOVA results\n",
    "print(\"ANOVA Results for FAS_total_raw\")\n",
    "print(\"F-statistic:\", f_statistic)\n",
    "print(\"p-value:\", p_value)\n",
    "\n",
    "# print post hoc test results if applicable\n",
    "if posthoc_results is not None:\n",
    "    print(\"Post hoc test results:\")\n",
    "    print(posthoc_results)"
   ]
  },
  {
   "cell_type": "code",
   "execution_count": 39,
   "metadata": {},
   "outputs": [
    {
     "name": "stdout",
     "output_type": "stream",
     "text": [
      "ANOVA Results for FAS_total_raw\n",
      "F-statistic: 0.5629508223530136\n",
      "p-value: 0.5700143626374399\n"
     ]
    },
    {
     "name": "stderr",
     "output_type": "stream",
     "text": [
      "<ipython-input-35-48d746d16df3>:18: SettingWithCopyWarning: \n",
      "A value is trying to be set on a copy of a slice from a DataFrame.\n",
      "Try using .loc[row_indexer,col_indexer] = value instead\n",
      "\n",
      "See the caveats in the documentation: https://pandas.pydata.org/pandas-docs/stable/user_guide/indexing.html#returning-a-view-versus-a-copy\n",
      "  df[test_col] = df[test_col].replace([np.nan, np.inf, -np.inf], np.nan)\n"
     ]
    }
   ],
   "source": [
    "# BNT_totalwstim_raw\n",
    "# perform an one-way ANOVA\n",
    "f_statistic, p_value, posthoc_results = perform_one_way_anova(df,'syndrome_v2_v2', 'FAS_total_raw')\n",
    "\n",
    "# print ANOVA results\n",
    "print(\"ANOVA Results for FAS_total_raw\")\n",
    "print(\"F-statistic:\", f_statistic)\n",
    "print(\"p-value:\", p_value)\n",
    "\n",
    "# print post hoc test results if applicable\n",
    "if posthoc_results is not None:\n",
    "    print(\"Post hoc test results:\")\n",
    "    print(posthoc_results)"
   ]
  },
  {
   "cell_type": "code",
   "execution_count": 41,
   "metadata": {},
   "outputs": [
    {
     "name": "stdout",
     "output_type": "stream",
     "text": [
      "ANOVA Results for Left-Caduate\n",
      "F-statistic: 0.2549603246632527\n",
      "p-value: 0.7750662476202127\n"
     ]
    },
    {
     "name": "stderr",
     "output_type": "stream",
     "text": [
      "<ipython-input-35-48d746d16df3>:18: SettingWithCopyWarning: \n",
      "A value is trying to be set on a copy of a slice from a DataFrame.\n",
      "Try using .loc[row_indexer,col_indexer] = value instead\n",
      "\n",
      "See the caveats in the documentation: https://pandas.pydata.org/pandas-docs/stable/user_guide/indexing.html#returning-a-view-versus-a-copy\n",
      "  df[test_col] = df[test_col].replace([np.nan, np.inf, -np.inf], np.nan)\n"
     ]
    }
   ],
   "source": [
    "# Left Caudate\n",
    "# perform an one-way ANOVA\n",
    "f_statistic, p_value, posthoc_results = perform_one_way_anova(df,'syndrome_v2_v2', 'Left-Caudate')\n",
    "\n",
    "# print ANOVA results\n",
    "print(\"ANOVA Results for Left-Caduate\")\n",
    "print(\"F-statistic:\", f_statistic)\n",
    "print(\"p-value:\", p_value)\n",
    "\n",
    "# print post hoc test results if applicable\n",
    "if posthoc_results is not None:\n",
    "    print(\"Post hoc test results:\")\n",
    "    print(posthoc_results)"
   ]
  },
  {
   "cell_type": "code",
   "execution_count": 42,
   "metadata": {},
   "outputs": [
    {
     "name": "stdout",
     "output_type": "stream",
     "text": [
      "ANOVA Results for Left-Caduate\n",
      "F-statistic: 0.38680883783412534\n",
      "p-value: 0.6794609237646184\n"
     ]
    },
    {
     "name": "stderr",
     "output_type": "stream",
     "text": [
      "<ipython-input-35-48d746d16df3>:18: SettingWithCopyWarning: \n",
      "A value is trying to be set on a copy of a slice from a DataFrame.\n",
      "Try using .loc[row_indexer,col_indexer] = value instead\n",
      "\n",
      "See the caveats in the documentation: https://pandas.pydata.org/pandas-docs/stable/user_guide/indexing.html#returning-a-view-versus-a-copy\n",
      "  df[test_col] = df[test_col].replace([np.nan, np.inf, -np.inf], np.nan)\n"
     ]
    }
   ],
   "source": [
    "# Right Caudate\n",
    "# perform an one-way ANOVA\n",
    "f_statistic, p_value, posthoc_results = perform_one_way_anova(df,'syndrome_v2_v2', 'Right-Caudate')\n",
    "\n",
    "# print ANOVA results\n",
    "print(\"ANOVA Results for Right-Caduate\")\n",
    "print(\"F-statistic:\", f_statistic)\n",
    "print(\"p-value:\", p_value)\n",
    "\n",
    "# print post hoc test results if applicable\n",
    "if posthoc_results is not None:\n",
    "    print(\"Post hoc test results:\")\n",
    "    print(posthoc_results)"
   ]
  },
  {
   "cell_type": "code",
   "execution_count": 43,
   "metadata": {},
   "outputs": [
    {
     "name": "stdout",
     "output_type": "stream",
     "text": [
      "ANOVA Results for Left-Putamen\n",
      "F-statistic: 0.9713155038660651\n",
      "p-value: 0.379427431455273\n"
     ]
    },
    {
     "name": "stderr",
     "output_type": "stream",
     "text": [
      "<ipython-input-35-48d746d16df3>:18: SettingWithCopyWarning: \n",
      "A value is trying to be set on a copy of a slice from a DataFrame.\n",
      "Try using .loc[row_indexer,col_indexer] = value instead\n",
      "\n",
      "See the caveats in the documentation: https://pandas.pydata.org/pandas-docs/stable/user_guide/indexing.html#returning-a-view-versus-a-copy\n",
      "  df[test_col] = df[test_col].replace([np.nan, np.inf, -np.inf], np.nan)\n"
     ]
    }
   ],
   "source": [
    "# Left Putamen\n",
    "# perform an one-way ANOVA\n",
    "f_statistic, p_value, posthoc_results = perform_one_way_anova(df,'syndrome_v2_v2', 'Left-Putamen')\n",
    "\n",
    "# print ANOVA results\n",
    "print(\"ANOVA Results for Left-Putamen\")\n",
    "print(\"F-statistic:\", f_statistic)\n",
    "print(\"p-value:\", p_value)\n",
    "\n",
    "# print post hoc test results if applicable\n",
    "if posthoc_results is not None:\n",
    "    print(\"Post hoc test results:\")\n",
    "    print(posthoc_results)"
   ]
  },
  {
   "cell_type": "code",
   "execution_count": 45,
   "metadata": {},
   "outputs": [
    {
     "name": "stdout",
     "output_type": "stream",
     "text": [
      "ANOVA Results for Right-Putamen\n",
      "F-statistic: 0.2763074309447219\n",
      "p-value: 0.7587164906523742\n"
     ]
    },
    {
     "name": "stderr",
     "output_type": "stream",
     "text": [
      "<ipython-input-35-48d746d16df3>:18: SettingWithCopyWarning: \n",
      "A value is trying to be set on a copy of a slice from a DataFrame.\n",
      "Try using .loc[row_indexer,col_indexer] = value instead\n",
      "\n",
      "See the caveats in the documentation: https://pandas.pydata.org/pandas-docs/stable/user_guide/indexing.html#returning-a-view-versus-a-copy\n",
      "  df[test_col] = df[test_col].replace([np.nan, np.inf, -np.inf], np.nan)\n"
     ]
    }
   ],
   "source": [
    "# Right Putamen\n",
    "# perform an one-way ANOVA\n",
    "f_statistic, p_value, posthoc_results = perform_one_way_anova(df,'syndrome_v2_v2', 'Right-Putamen')\n",
    "\n",
    "# print ANOVA results\n",
    "print(\"ANOVA Results for Right-Putamen\")\n",
    "print(\"F-statistic:\", f_statistic)\n",
    "print(\"p-value:\", p_value)\n",
    "\n",
    "# print post hoc test results if applicable\n",
    "if posthoc_results is not None:\n",
    "    print(\"Post hoc test results:\")\n",
    "    print(posthoc_results)"
   ]
  },
  {
   "cell_type": "code",
   "execution_count": 49,
   "metadata": {},
   "outputs": [
    {
     "name": "stdout",
     "output_type": "stream",
     "text": [
      "ANOVA Results for Right-Pallidum\n",
      "F-statistic: 0.41647784613013683\n",
      "p-value: 0.6596351977918318\n"
     ]
    },
    {
     "name": "stderr",
     "output_type": "stream",
     "text": [
      "<ipython-input-48-48d746d16df3>:18: SettingWithCopyWarning: \n",
      "A value is trying to be set on a copy of a slice from a DataFrame.\n",
      "Try using .loc[row_indexer,col_indexer] = value instead\n",
      "\n",
      "See the caveats in the documentation: https://pandas.pydata.org/pandas-docs/stable/user_guide/indexing.html#returning-a-view-versus-a-copy\n",
      "  df[test_col] = df[test_col].replace([np.nan, np.inf, -np.inf], np.nan)\n"
     ]
    }
   ],
   "source": [
    "# Right-Pallidum\n",
    "# perform an one-way ANOVA\n",
    "f_statistic, p_value, posthoc_results = perform_one_way_anova(df,'syndrome_v2_v2', 'Right-Pallidum')\n",
    "\n",
    "# print ANOVA results\n",
    "print(\"ANOVA Results for Right-Pallidum\")\n",
    "print(\"F-statistic:\", f_statistic)\n",
    "print(\"p-value:\", p_value)\n",
    "\n",
    "# print post hoc test results if applicable\n",
    "if posthoc_results is not None:\n",
    "    print(\"Post hoc test results:\")\n",
    "    print(posthoc_results)"
   ]
  },
  {
   "cell_type": "code",
   "execution_count": 51,
   "metadata": {},
   "outputs": [
    {
     "name": "stdout",
     "output_type": "stream",
     "text": [
      "ANOVA Results for Left-Pallidum\n",
      "F-statistic: 0.6207819649034203\n",
      "p-value: 0.5380129207198259\n"
     ]
    },
    {
     "name": "stderr",
     "output_type": "stream",
     "text": [
      "<ipython-input-48-48d746d16df3>:18: SettingWithCopyWarning: \n",
      "A value is trying to be set on a copy of a slice from a DataFrame.\n",
      "Try using .loc[row_indexer,col_indexer] = value instead\n",
      "\n",
      "See the caveats in the documentation: https://pandas.pydata.org/pandas-docs/stable/user_guide/indexing.html#returning-a-view-versus-a-copy\n",
      "  df[test_col] = df[test_col].replace([np.nan, np.inf, -np.inf], np.nan)\n"
     ]
    }
   ],
   "source": [
    "# Left-Pallidum\n",
    "# perform an one-way ANOVA\n",
    "f_statistic, p_value, posthoc_results = perform_one_way_anova(df,'syndrome_v2_v2', 'Left-Pallidum')\n",
    "\n",
    "# print ANOVA results\n",
    "print(\"ANOVA Results for Left-Pallidum\")\n",
    "print(\"F-statistic:\", f_statistic)\n",
    "print(\"p-value:\", p_value)\n",
    "\n",
    "# print post hoc test results if applicable\n",
    "if posthoc_results is not None:\n",
    "    print(\"Post hoc test results:\")\n",
    "    print(posthoc_results)"
   ]
  },
  {
   "cell_type": "code",
   "execution_count": 52,
   "metadata": {},
   "outputs": [
    {
     "name": "stdout",
     "output_type": "stream",
     "text": [
      "ANOVA Results for Right-Accumbens-area\n",
      "F-statistic: 0.47975781090651315\n",
      "p-value: 0.6192696364734006\n"
     ]
    },
    {
     "name": "stderr",
     "output_type": "stream",
     "text": [
      "<ipython-input-48-48d746d16df3>:18: SettingWithCopyWarning: \n",
      "A value is trying to be set on a copy of a slice from a DataFrame.\n",
      "Try using .loc[row_indexer,col_indexer] = value instead\n",
      "\n",
      "See the caveats in the documentation: https://pandas.pydata.org/pandas-docs/stable/user_guide/indexing.html#returning-a-view-versus-a-copy\n",
      "  df[test_col] = df[test_col].replace([np.nan, np.inf, -np.inf], np.nan)\n"
     ]
    }
   ],
   "source": [
    "# Right-Accumbens-area\n",
    "# perform an one-way ANOVA\n",
    "f_statistic, p_value, posthoc_results = perform_one_way_anova(df,'syndrome_v2_v2', 'Right-Accumbens-area')\n",
    "\n",
    "# print ANOVA results\n",
    "print(\"ANOVA Results for Right-Accumbens-area\")\n",
    "print(\"F-statistic:\", f_statistic)\n",
    "print(\"p-value:\", p_value)\n",
    "\n",
    "# print post hoc test results if applicable\n",
    "if posthoc_results is not None:\n",
    "    print(\"Post hoc test results:\")\n",
    "    print(posthoc_results)"
   ]
  },
  {
   "cell_type": "code",
   "execution_count": 53,
   "metadata": {},
   "outputs": [
    {
     "name": "stdout",
     "output_type": "stream",
     "text": [
      "ANOVA Results for Left-Accumbens-area\n",
      "F-statistic: 1.0847539592356772\n",
      "p-value: 0.338923229607166\n"
     ]
    },
    {
     "name": "stderr",
     "output_type": "stream",
     "text": [
      "<ipython-input-48-48d746d16df3>:18: SettingWithCopyWarning: \n",
      "A value is trying to be set on a copy of a slice from a DataFrame.\n",
      "Try using .loc[row_indexer,col_indexer] = value instead\n",
      "\n",
      "See the caveats in the documentation: https://pandas.pydata.org/pandas-docs/stable/user_guide/indexing.html#returning-a-view-versus-a-copy\n",
      "  df[test_col] = df[test_col].replace([np.nan, np.inf, -np.inf], np.nan)\n"
     ]
    }
   ],
   "source": [
    "# Left-Accumbens-area\n",
    "# perform an one-way ANOVA\n",
    "f_statistic, p_value, posthoc_results = perform_one_way_anova(df,'syndrome_v2_v2', 'Left-Accumbens-area')\n",
    "\n",
    "# print ANOVA results\n",
    "print(\"ANOVA Results for Left-Accumbens-area\")\n",
    "print(\"F-statistic:\", f_statistic)\n",
    "print(\"p-value:\", p_value)\n",
    "\n",
    "# print post hoc test results if applicable\n",
    "if posthoc_results is not None:\n",
    "    print(\"Post hoc test results:\")\n",
    "    print(posthoc_results)"
   ]
  },
  {
   "cell_type": "code",
   "execution_count": 54,
   "metadata": {},
   "outputs": [
    {
     "name": "stdout",
     "output_type": "stream",
     "text": [
      "ANOVA Results for TOPF_raw\n",
      "F-statistic: 0.32701575711758807\n",
      "p-value: 0.7218642185083002\n"
     ]
    },
    {
     "name": "stderr",
     "output_type": "stream",
     "text": [
      "<ipython-input-48-48d746d16df3>:18: SettingWithCopyWarning: \n",
      "A value is trying to be set on a copy of a slice from a DataFrame.\n",
      "Try using .loc[row_indexer,col_indexer] = value instead\n",
      "\n",
      "See the caveats in the documentation: https://pandas.pydata.org/pandas-docs/stable/user_guide/indexing.html#returning-a-view-versus-a-copy\n",
      "  df[test_col] = df[test_col].replace([np.nan, np.inf, -np.inf], np.nan)\n"
     ]
    }
   ],
   "source": [
    "#TOPF_raw\n",
    "# perform an one-way ANOVA\n",
    "f_statistic, p_value, posthoc_results = perform_one_way_anova(df,'syndrome_v2_v2', 'TOPF_raw')\n",
    "\n",
    "# print ANOVA results\n",
    "print(\"ANOVA Results for TOPF_raw\")\n",
    "print(\"F-statistic:\", f_statistic)\n",
    "print(\"p-value:\", p_value)\n",
    "\n",
    "# print post hoc test results if applicable\n",
    "if posthoc_results is not None:\n",
    "    print(\"Post hoc test results:\")\n",
    "    print(posthoc_results)"
   ]
  },
  {
   "cell_type": "code",
   "execution_count": null,
   "metadata": {},
   "outputs": [],
   "source": []
  }
 ],
 "metadata": {
  "kernelspec": {
   "display_name": "Python 3 (ipykernel)",
   "language": "python",
   "name": "python3"
  },
  "language_info": {
   "codemirror_mode": {
    "name": "ipython",
    "version": 3
   },
   "file_extension": ".py",
   "mimetype": "text/x-python",
   "name": "python",
   "nbconvert_exporter": "python",
   "pygments_lexer": "ipython3",
   "version": "3.11.5"
  }
 },
 "nbformat": 4,
 "nbformat_minor": 4
}
